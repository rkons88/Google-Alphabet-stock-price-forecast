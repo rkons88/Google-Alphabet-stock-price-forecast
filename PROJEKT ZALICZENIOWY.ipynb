{
 "cells": [
  {
   "cell_type": "code",
   "execution_count": null,
   "id": "4b9c68fa",
   "metadata": {},
   "outputs": [],
   "source": [
    "#CEL PROJEKTU: CELEM PROJEKTU JEST SPRAWDZENIE STOPNIA SKUTECZNOŚCI WYBRANYCH MODELI/ALGORYTMÓW UCZENIA MASZYNOWEGO DO PRZEWIDYWANIA WARTOŚCI DANYCH SZEREGU CZASOWEGO NA PODSTAWIE SPÓŁKI AKCYJNEJ GOOGLE/ALPHABET"
   ]
  },
  {
   "cell_type": "code",
   "execution_count": null,
   "id": "b7cc0edf",
   "metadata": {},
   "outputs": [],
   "source": [
    "pip install yfinance"
   ]
  },
  {
   "cell_type": "code",
   "execution_count": 973,
   "id": "ddc4e513",
   "metadata": {},
   "outputs": [],
   "source": [
    "import pandas as pd\n",
    "import numpy as np\n",
    "import matplotlib.pyplot as plt\n",
    "import statsmodels.api as sm\n",
    "\n",
    "import yfinance as yf\n",
    "\n",
    "from sklearn import linear_model\n",
    "from sklearn.linear_model import LinearRegression\n",
    "from sklearn.preprocessing import PolynomialFeatures\n",
    "from sklearn.linear_model import Ridge\n",
    "from sklearn.linear_model import Lasso\n",
    "from sklearn.linear_model import ElasticNet\n",
    "from sklearn.pipeline import make_pipeline\n",
    "from sklearn import  metrics\n",
    "from sklearn import model_selection\n",
    "from sklearn.model_selection import GridSearchCV\n",
    "from sklearn.neural_network import MLPRegressor\n",
    "\n",
    "from tensorflow.keras.models import Sequential\n",
    "from tensorflow.keras.layers import Dense\n",
    "from tensorflow.keras.layers import LSTM\n",
    "from tensorflow.keras.layers import Dropout\n",
    "from sklearn.preprocessing import MinMaxScaler"
   ]
  },
  {
   "cell_type": "code",
   "execution_count": 974,
   "id": "eba15e7e",
   "metadata": {},
   "outputs": [
    {
     "name": "stdout",
     "output_type": "stream",
     "text": [
      "[*********************100%***********************]  1 of 1 completed\n"
     ]
    },
    {
     "data": {
      "text/html": [
       "<div>\n",
       "<style scoped>\n",
       "    .dataframe tbody tr th:only-of-type {\n",
       "        vertical-align: middle;\n",
       "    }\n",
       "\n",
       "    .dataframe tbody tr th {\n",
       "        vertical-align: top;\n",
       "    }\n",
       "\n",
       "    .dataframe thead th {\n",
       "        text-align: right;\n",
       "    }\n",
       "</style>\n",
       "<table border=\"1\" class=\"dataframe\">\n",
       "  <thead>\n",
       "    <tr style=\"text-align: right;\">\n",
       "      <th></th>\n",
       "      <th>Open</th>\n",
       "      <th>High</th>\n",
       "      <th>Low</th>\n",
       "      <th>Close</th>\n",
       "      <th>Adj Close</th>\n",
       "      <th>Volume</th>\n",
       "    </tr>\n",
       "    <tr>\n",
       "      <th>Date</th>\n",
       "      <th></th>\n",
       "      <th></th>\n",
       "      <th></th>\n",
       "      <th></th>\n",
       "      <th></th>\n",
       "      <th></th>\n",
       "    </tr>\n",
       "  </thead>\n",
       "  <tbody>\n",
       "    <tr>\n",
       "      <th>2004-08-19</th>\n",
       "      <td>2.502503</td>\n",
       "      <td>2.604104</td>\n",
       "      <td>2.401401</td>\n",
       "      <td>2.511011</td>\n",
       "      <td>2.511011</td>\n",
       "      <td>893181924</td>\n",
       "    </tr>\n",
       "    <tr>\n",
       "      <th>2004-08-20</th>\n",
       "      <td>2.527778</td>\n",
       "      <td>2.729730</td>\n",
       "      <td>2.515015</td>\n",
       "      <td>2.710460</td>\n",
       "      <td>2.710460</td>\n",
       "      <td>456686856</td>\n",
       "    </tr>\n",
       "    <tr>\n",
       "      <th>2004-08-23</th>\n",
       "      <td>2.771522</td>\n",
       "      <td>2.839840</td>\n",
       "      <td>2.728979</td>\n",
       "      <td>2.737738</td>\n",
       "      <td>2.737738</td>\n",
       "      <td>365122512</td>\n",
       "    </tr>\n",
       "    <tr>\n",
       "      <th>2004-08-24</th>\n",
       "      <td>2.783784</td>\n",
       "      <td>2.792793</td>\n",
       "      <td>2.591842</td>\n",
       "      <td>2.624374</td>\n",
       "      <td>2.624374</td>\n",
       "      <td>304946748</td>\n",
       "    </tr>\n",
       "    <tr>\n",
       "      <th>2004-08-25</th>\n",
       "      <td>2.626627</td>\n",
       "      <td>2.702703</td>\n",
       "      <td>2.599600</td>\n",
       "      <td>2.652653</td>\n",
       "      <td>2.652653</td>\n",
       "      <td>183772044</td>\n",
       "    </tr>\n",
       "    <tr>\n",
       "      <th>...</th>\n",
       "      <td>...</td>\n",
       "      <td>...</td>\n",
       "      <td>...</td>\n",
       "      <td>...</td>\n",
       "      <td>...</td>\n",
       "      <td>...</td>\n",
       "    </tr>\n",
       "    <tr>\n",
       "      <th>2023-01-18</th>\n",
       "      <td>92.139999</td>\n",
       "      <td>92.800003</td>\n",
       "      <td>90.639999</td>\n",
       "      <td>91.120003</td>\n",
       "      <td>91.120003</td>\n",
       "      <td>29116700</td>\n",
       "    </tr>\n",
       "    <tr>\n",
       "      <th>2023-01-19</th>\n",
       "      <td>90.720001</td>\n",
       "      <td>93.610001</td>\n",
       "      <td>90.629997</td>\n",
       "      <td>93.050003</td>\n",
       "      <td>93.050003</td>\n",
       "      <td>37000400</td>\n",
       "    </tr>\n",
       "    <tr>\n",
       "      <th>2023-01-20</th>\n",
       "      <td>95.099998</td>\n",
       "      <td>98.300003</td>\n",
       "      <td>95.019997</td>\n",
       "      <td>98.019997</td>\n",
       "      <td>98.019997</td>\n",
       "      <td>63037300</td>\n",
       "    </tr>\n",
       "    <tr>\n",
       "      <th>2023-01-23</th>\n",
       "      <td>97.949997</td>\n",
       "      <td>100.040001</td>\n",
       "      <td>97.500000</td>\n",
       "      <td>99.790001</td>\n",
       "      <td>99.790001</td>\n",
       "      <td>40005100</td>\n",
       "    </tr>\n",
       "    <tr>\n",
       "      <th>2023-01-24</th>\n",
       "      <td>98.099998</td>\n",
       "      <td>99.599998</td>\n",
       "      <td>97.400002</td>\n",
       "      <td>97.531998</td>\n",
       "      <td>97.531998</td>\n",
       "      <td>21809821</td>\n",
       "    </tr>\n",
       "  </tbody>\n",
       "</table>\n",
       "<p>4640 rows × 6 columns</p>\n",
       "</div>"
      ],
      "text/plain": [
       "                 Open        High        Low      Close  Adj Close     Volume\n",
       "Date                                                                         \n",
       "2004-08-19   2.502503    2.604104   2.401401   2.511011   2.511011  893181924\n",
       "2004-08-20   2.527778    2.729730   2.515015   2.710460   2.710460  456686856\n",
       "2004-08-23   2.771522    2.839840   2.728979   2.737738   2.737738  365122512\n",
       "2004-08-24   2.783784    2.792793   2.591842   2.624374   2.624374  304946748\n",
       "2004-08-25   2.626627    2.702703   2.599600   2.652653   2.652653  183772044\n",
       "...               ...         ...        ...        ...        ...        ...\n",
       "2023-01-18  92.139999   92.800003  90.639999  91.120003  91.120003   29116700\n",
       "2023-01-19  90.720001   93.610001  90.629997  93.050003  93.050003   37000400\n",
       "2023-01-20  95.099998   98.300003  95.019997  98.019997  98.019997   63037300\n",
       "2023-01-23  97.949997  100.040001  97.500000  99.790001  99.790001   40005100\n",
       "2023-01-24  98.099998   99.599998  97.400002  97.531998  97.531998   21809821\n",
       "\n",
       "[4640 rows x 6 columns]"
      ]
     },
     "execution_count": 974,
     "metadata": {},
     "output_type": "execute_result"
    }
   ],
   "source": [
    "# IMPORT DANYCH Z WYKORZYSTANIEM YFINANCE\n",
    "\n",
    "data = yf.download('GOOGL', index_col = 0, squeeze = True, parse_dates=['Date'])\n",
    "\n",
    "#WYSWIETLENIE DANYCH\n",
    "\n",
    "data"
   ]
  },
  {
   "cell_type": "code",
   "execution_count": 975,
   "id": "b0bc87ac",
   "metadata": {},
   "outputs": [],
   "source": [
    "#WNIOSEK: KOLUMNY W ZAIMPORTOWANYCH REPREZENTUJĄ ODPOWIEDNIO: CENĘ OTWARCIA W DANEJ SESJI, MAKSYMALNĄ CENĘ PODCZAS TRWANIA SESJI, MINIMALNĄ CENĘ W DANEJ SESJI, CENĘ ZAMKNIĘCIA W DANEJ SESJI ORAZ WOLUMEN TRANSAKCYJNY, WIERSZE/INDEKSY REPREZENTUJĄ DZIEŃ HANDLOWY\n"
   ]
  },
  {
   "cell_type": "code",
   "execution_count": null,
   "id": "f2bab688",
   "metadata": {},
   "outputs": [],
   "source": [
    "#WYŚWIETLENIE WYMIARÓW DANYCH\n",
    "\n",
    "data.shape"
   ]
  },
  {
   "cell_type": "code",
   "execution_count": null,
   "id": "afd046b8",
   "metadata": {},
   "outputs": [],
   "source": [
    "#WNIOSEK: DANE SKŁADAJĄ SIĘ Z 6CIU KOLUMN ORAZ 4629 OBSERWACJI"
   ]
  },
  {
   "cell_type": "code",
   "execution_count": null,
   "id": "6a7a60eb",
   "metadata": {},
   "outputs": [],
   "source": [
    "#SPRAWDZENIE CZY W DANYCH ZNAJDUJĄ SIĘ BRAKUJĄCE WARTOŚCI\n",
    "\n",
    "data.isna().sum()"
   ]
  },
  {
   "cell_type": "code",
   "execution_count": null,
   "id": "c517b05b",
   "metadata": {},
   "outputs": [],
   "source": [
    "#WNIOSEK: ZAIMPORTOWANE DANE SĄ CZYSTE - NIE WYSTĘPUJĄ WARTOŚCI BRAKUJĄCE"
   ]
  },
  {
   "cell_type": "code",
   "execution_count": null,
   "id": "6e0b67cc",
   "metadata": {},
   "outputs": [],
   "source": [
    "#FILTROWANIE ANALIZOWANYCH DANYCH - NAS INTERESUJE CENA ZAMKNIECIA\n",
    "\n",
    "data = data['Close']"
   ]
  },
  {
   "cell_type": "code",
   "execution_count": null,
   "id": "b352f0fb",
   "metadata": {},
   "outputs": [],
   "source": [
    "#NARYSOWANIE WYKRESU CENY ZAMKNIECIA W CZASIE\n",
    "\n",
    "plt.figure(figsize=(20, 10))\n",
    "data.plot()\n",
    "plt.show()"
   ]
  },
  {
   "cell_type": "code",
   "execution_count": null,
   "id": "e253149c",
   "metadata": {},
   "outputs": [],
   "source": [
    "from statsmodels.tsa.stattools import adfuller"
   ]
  },
  {
   "cell_type": "code",
   "execution_count": null,
   "id": "43602f5a",
   "metadata": {},
   "outputs": [],
   "source": [
    "#ZAIMPORTOWANIE FUNKCJI SPRAWDZAJĄCEJ STACJONARNOŚĆ SZEREGU CZASOWEGO\n",
    "\n",
    "def test_stationarity(timeseries):\n",
    "    rolmean = timeseries.rolling(12).mean()#.rolling_mean(timeseries, window=12)\n",
    "    rolstd = timeseries.rolling(12).std()\n",
    "    \n",
    "    #Plot rolling statistics:\n",
    "    plt.figure(figsize=(20,10));\n",
    "    orig = plt.plot(timeseries, color='blue',label='Original')\n",
    "    mean = plt.plot(rolmean, color='red', label='Rolling Mean')\n",
    "    std = plt.plot(rolstd, color='black', label = 'Rolling Std')\n",
    "    plt.legend(loc='best')\n",
    "    plt.title('Rolling Mean & Standard Deviation')\n",
    "    plt.show(block=False)\n",
    "    print('Results of Dickey-Fuller Test:')\n",
    "    \n",
    "    dftest = adfuller(timeseries, autolag='AIC')\n",
    "    dfoutput = pd.Series(dftest[0:4], index=['Test Statistic','p-value','#Lags Used','Number of Observations Used'])\n",
    "    for key,value in dftest[4].items():\n",
    "        dfoutput['Critical Value (%s)'%key] = value\n",
    "    print(dfoutput)"
   ]
  },
  {
   "cell_type": "code",
   "execution_count": null,
   "id": "8569c91f",
   "metadata": {},
   "outputs": [],
   "source": [
    "#SPRAWDZENIE STACJONARNOŚCI SZEREGU CZASOWEGO\n",
    "\n",
    "test_stationarity(data)"
   ]
  },
  {
   "cell_type": "code",
   "execution_count": null,
   "id": "0ffb3cea",
   "metadata": {},
   "outputs": [],
   "source": [
    "#SPRAWDZENIE P-VALUE\n",
    "\n",
    "_,pval,_,_,_,_ =adfuller(data, autolag='AIC')\n",
    "pval"
   ]
  },
  {
   "cell_type": "code",
   "execution_count": null,
   "id": "f9128532",
   "metadata": {},
   "outputs": [],
   "source": [
    "#SPRAWDZENIE P-VALUE\n",
    "\n",
    "if pval > 0.05:\n",
    "    print('pval > 0.05 -> przyjmujemy hipoteze zerowa -> szereg czasowy jest niestacjonarny')\n",
    "else:\n",
    "    print('pval < 0.05 -> odrzucamy hipoteze zerowa -> szereg czasowy jest stacjonarny')"
   ]
  },
  {
   "cell_type": "code",
   "execution_count": null,
   "id": "8b6e98a5",
   "metadata": {},
   "outputs": [],
   "source": [
    "#SPRAWDZENIE AUTOKORELACJI\n",
    "\n",
    "from pandas.plotting import autocorrelation_plot\n",
    "\n",
    "plt.figure(figsize=(20,10));\n",
    "autocorrelation_plot(data)\n",
    "plt.show()"
   ]
  },
  {
   "cell_type": "code",
   "execution_count": null,
   "id": "c48d5088",
   "metadata": {},
   "outputs": [],
   "source": [
    "#SPRAWDZENIE AUTOKORELACJI\n",
    "\n",
    "fig = plt.figure(figsize=(12,8))\n",
    "ax1 = fig.add_subplot(211)\n",
    "fig = sm.graphics.tsa.plot_acf(data.values, lags=40, ax=ax1)\n",
    "ax2 = fig.add_subplot(212)\n",
    "fig = sm.graphics.tsa.plot_pacf(data.values, lags=40, ax=ax2)\n",
    "plt.show()"
   ]
  },
  {
   "cell_type": "code",
   "execution_count": null,
   "id": "32a4badc",
   "metadata": {},
   "outputs": [],
   "source": [
    "scaler=MinMaxScaler(feature_range=(0,1))\n",
    "\n",
    "data_scaled=scaler.fit_transform(data.values.reshape(-1,1))"
   ]
  },
  {
   "cell_type": "code",
   "execution_count": null,
   "id": "87eb62a9",
   "metadata": {},
   "outputs": [],
   "source": [
    "test_size = 0.2"
   ]
  },
  {
   "cell_type": "code",
   "execution_count": null,
   "id": "a1ed735d",
   "metadata": {},
   "outputs": [],
   "source": [
    "training_data_size = int(len(data_scaled)*(1-test_size))\n",
    "test_data_size = len(data_scaled)-training_data_size\n",
    "\n",
    "train_data= data_scaled[0:training_data_size,:]\n",
    "test_data = data_scaled[training_data_size:len(data_scaled),:1]"
   ]
  },
  {
   "cell_type": "code",
   "execution_count": null,
   "id": "054bfc29",
   "metadata": {},
   "outputs": [],
   "source": [
    "time_step = 5"
   ]
  },
  {
   "cell_type": "code",
   "execution_count": null,
   "id": "9309c3f3",
   "metadata": {},
   "outputs": [],
   "source": [
    "def create_dataset(dataset, time_step=time_step):\n",
    "    dataX, dataY = [], []\n",
    "    for i in range(len(dataset)-time_step-1):\n",
    "        a = dataset[i:(i+time_step), 0]\n",
    "        dataX.append(a)\n",
    "        dataY.append(dataset[i + time_step, 0])\n",
    "    return np.array(dataX), np.array(dataY)\n",
    "\n",
    "X_train, y_train = create_dataset(train_data, time_step)\n",
    "X_test, y_test = create_dataset(test_data, time_step)\n",
    "\n",
    "X_train = X_train.reshape(X_train.shape[0],X_train.shape[1] , 1)\n",
    "X_test = X_test.reshape(X_test.shape[0],X_test.shape[1] , 1)"
   ]
  },
  {
   "cell_type": "code",
   "execution_count": null,
   "id": "2a88965e",
   "metadata": {},
   "outputs": [],
   "source": [
    "model=Sequential()\n",
    "model.add(LSTM(50,return_sequences=True,input_shape=(time_step,1)))\n",
    "model.add(Dropout(0.2))\n",
    "model.add(LSTM(50,return_sequences=True))\n",
    "model.add(Dropout(0.2))\n",
    "model.add(LSTM(50))\n",
    "model.add(Dropout(0.2))\n",
    "model.add(Dense(1))\n",
    "\n",
    "model.compile(loss='mean_squared_error', optimizer ='adam', metrics=['mse', 'mae'])\n",
    "\n",
    "model.fit(x=X_train, y=y_train, batch_size=15, epochs=30, shuffle=True, validation_split = 0.1)"
   ]
  },
  {
   "cell_type": "code",
   "execution_count": null,
   "id": "7a8b3008",
   "metadata": {},
   "outputs": [],
   "source": [
    "train_predict = model.predict(X_train)\n",
    "test_predict = model.predict(X_test)"
   ]
  },
  {
   "cell_type": "code",
   "execution_count": null,
   "id": "24620dee",
   "metadata": {},
   "outputs": [],
   "source": [
    "train_predict_inverted = scaler.inverse_transform(train_predict)\n",
    "test_predict_inverted = scaler.inverse_transform(test_predict)\n",
    "\n",
    "train_predict_inverted_zeros = np.zeros(time_step+1)\n",
    "train_predict_inverted_final = np.insert(train_predict_inverted, 0, train_predict_inverted_zeros)\n",
    "\n",
    "test_predict_inverted_zeros = np.zeros(train_predict_inverted_final.shape[0]+ time_step+1)\n",
    "test_predict_inverted_final= np.insert(test_predict_inverted, 0, test_predict_inverted_zeros)"
   ]
  },
  {
   "cell_type": "code",
   "execution_count": null,
   "id": "69eb36a7",
   "metadata": {},
   "outputs": [],
   "source": [
    "plt.figure(figsize=(20,10))\n",
    "\n",
    "plt.plot(train_predict_inverted_final, label='LSTM_train_pred')\n",
    "plt.plot(test_predict_inverted_final, label = 'LSTM_test_pred')\n",
    "plt.plot(data.values, label= 'data')\n",
    "\n",
    "plt.legend(loc='best')\n",
    "plt.grid()\n",
    "plt.xlabel('Ilosc dni')\n",
    "plt.ylabel('Cena')\n",
    "plt.show()"
   ]
  },
  {
   "cell_type": "code",
   "execution_count": null,
   "id": "1a0c87f1",
   "metadata": {},
   "outputs": [],
   "source": [
    "lstm_mean_squared_error = metrics.mean_squared_error(test_predict_inverted, data.values[-test_data_size+time_step+1:])\n",
    "\n",
    "lstm_mean_absolute_error = metrics.mean_absolute_error(test_predict_inverted, data.values[-test_data_size+time_step+1:])\n",
    "\n",
    "lstm_median_absolute_error = metrics.median_absolute_error(test_predict_inverted, data.values[-test_data_size+time_step+1:])\n",
    "\n",
    "lstm_explained_variance_score = metrics.explained_variance_score(test_predict_inverted, data.values[-test_data_size+time_step+1:])\n",
    "\n",
    "lstm_r2 = metrics.r2_score(test_predict_inverted, data.values[-test_data_size+time_step+1:])"
   ]
  },
  {
   "cell_type": "code",
   "execution_count": null,
   "id": "32dfd989",
   "metadata": {},
   "outputs": [],
   "source": [
    "d_1 = {'r2': [lstm_r2],\n",
    "     'explained_variance_score': [lstm_explained_variance_score], \n",
    "     'median_absolute_error': [lstm_median_absolute_error],\n",
    "     'mean_squared_error' : [lstm_mean_squared_error],\n",
    "     'mean_absolute_error' : [lstm_mean_absolute_error],\n",
    "    }\n",
    "\n",
    "df_1 = pd.DataFrame(data=d_1)\n",
    "df_1.insert(loc=0, column='Method', value=['LSTM'])\n",
    "\n",
    "df_1"
   ]
  },
  {
   "cell_type": "code",
   "execution_count": null,
   "id": "08289b4d",
   "metadata": {},
   "outputs": [],
   "source": [
    "def series_to_supervised(data, n_in=1, n_out=1, dropnan=True):\n",
    "    \"\"\"\n",
    "    Frame a time series as a supervised learning dataset.\n",
    "    Arguments:\n",
    "        data: Sequence of observations as a list or NumPy array.\n",
    "        n_in: Number of lag observations as input (X).\n",
    "        n_out: Number of observations as output (y).\n",
    "        dropnan: Boolean whether or not to drop rows with NaN values.\n",
    "    Returns:\n",
    "        Pandas DataFrame of series framed for supervised learning.\n",
    "    \"\"\"\n",
    "    n_vars = 1 if type(data) is list else data.shape[1]\n",
    "    df = pd.DataFrame(data)\n",
    "    cols, names = list(), list()\n",
    "    # input sequence (t-n, ... t-1)\n",
    "    for i in range(n_in, 0, -1):\n",
    "        cols.append(df.shift(i))\n",
    "        names += [('var%d(t-%d)' % (j+1, i)) for j in range(n_vars)]\n",
    "    # forecast sequence (t, t+1, ... t+n)\n",
    "    for i in range(0, n_out):\n",
    "        cols.append(df.shift(-i))\n",
    "        if i == 0:\n",
    "            names += [('var%d(t)' % (j+1)) for j in range(n_vars)]\n",
    "        else:\n",
    "            names += [('var%d(t+%d)' % (j+1, i)) for j in range(n_vars)]\n",
    "    # put it all together\n",
    "    agg = pd.concat(cols, axis=1)\n",
    "    agg.columns = names\n",
    "    # drop rows with NaN values\n",
    "    if dropnan:\n",
    "        agg.dropna(inplace=True)\n",
    "    return agg"
   ]
  },
  {
   "cell_type": "code",
   "execution_count": null,
   "id": "b463f426",
   "metadata": {},
   "outputs": [],
   "source": [
    "#PODZIAŁ DANYCH PRZED TRANSFORMACJĄ NA CZĘŚĆ TRENINGOWĄ ORAZ TESTOWĄ\n",
    "\n",
    "data_values = data.values\n",
    "data_train = data[:-test_data_size]\n",
    "data_test = data[-test_data_size:]"
   ]
  },
  {
   "cell_type": "code",
   "execution_count": null,
   "id": "2f1e0712",
   "metadata": {},
   "outputs": [],
   "source": [
    "#NARYSOWANIE WYKRESU DLA DANYCH Z CZĘŚCI TRENIGOWEJ ORAZ TESTOWEJ PRZED TRANSFORMACJĄ\n",
    "\n",
    "plt.figure(figsize=(20, 10))\n",
    "data_train.plot(label = 'train')\n",
    "data_test.plot(label = 'test')\n",
    "plt.legend()\n",
    "plt.grid()\n",
    "plt.xlabel('Ilosc dni')\n",
    "plt.ylabel('Cena')\n",
    "plt.show()"
   ]
  },
  {
   "cell_type": "code",
   "execution_count": null,
   "id": "2fe7a6b7",
   "metadata": {},
   "outputs": [],
   "source": [
    "#TRANSFORMACJA ZAIMPORTOWANYCH DANYCH SZEREGU CZASOWEGO\n",
    "\n",
    "df = pd.DataFrame()\n",
    "df['t'] = [x for x in data]\n",
    "dataframe = series_to_supervised(df, time_step)\n",
    "dataframe"
   ]
  },
  {
   "cell_type": "code",
   "execution_count": null,
   "id": "63b53dda",
   "metadata": {},
   "outputs": [],
   "source": [
    "array = dataframe.values\n",
    "# split into input and output\n",
    "X = array[:,0:-1]\n",
    "y = array[:,-1]"
   ]
  },
  {
   "cell_type": "code",
   "execution_count": null,
   "id": "aa5acfe8",
   "metadata": {},
   "outputs": [],
   "source": [
    "#PODZIAŁ DANYCH NA CZĘŚĆ TESTOWĄ ORAZ TRENINGOWĄ\n",
    "\n",
    "from sklearn.model_selection import train_test_split\n",
    "X_train, X_test, y_train, y_test = train_test_split(X, y, test_size=test_size, random_state=42)"
   ]
  },
  {
   "cell_type": "code",
   "execution_count": null,
   "id": "3a1caba8",
   "metadata": {},
   "outputs": [],
   "source": [
    "#DEFINIOWANIE PARAMETRÓW CROSS-VALIDATION\n",
    "\n",
    "seed=123\n",
    "kfold = model_selection.KFold(n_splits=5, random_state=None)"
   ]
  },
  {
   "cell_type": "code",
   "execution_count": null,
   "id": "abbc8cbd",
   "metadata": {},
   "outputs": [],
   "source": [
    "#WYSZUKIWANIE OPTYMALNEGO STOPNIA WIELOMIANU METODĄ ELASTIC NET\n",
    "#ANALIZOWANE STOPNIE WIELOMIANU: OD 1 DO 4\n",
    "#ANALIZOWANY WSPÓŁCZYNNIK ALFA: 0.01, 0.1, 1, 10\n",
    "#ZWRACANIE OPTYMALNEGO STOPNIA WIELOMIANU\n",
    "\n",
    "grid_1 = GridSearchCV(make_pipeline(PolynomialFeatures(degree=2), ElasticNet(alpha=1, max_iter=1000, random_state=seed)),\n",
    "                    param_grid={'polynomialfeatures__degree': [1, 2, 3, 4],\n",
    "                    'elasticnet__alpha': [1, 2, 3]},\n",
    "                    cv=kfold,\n",
    "                    refit=True)\n",
    "\n",
    "grid_1.fit(X_train, y_train)\n",
    "grid_1.best_params_"
   ]
  },
  {
   "cell_type": "code",
   "execution_count": null,
   "id": "f73e3752",
   "metadata": {},
   "outputs": [],
   "source": [
    "#WYSZUKIWANIE OPTYMALNEGO STOPNIA WIELOMIANU METODĄ LASSO\n",
    "#ANALIZOWANE STOPNIE WIELOMIANU: OD 1 DO 4\n",
    "#ANALIZOWANY WSPÓŁCZYNNIK ALFA: 0.01, 0.1, 1, 10\n",
    "#ZWRACANIE OPTYMALNEGO STOPNIA WIELOMIANU\n",
    "\n",
    "grid_2 = GridSearchCV(make_pipeline(PolynomialFeatures(degree=2), Lasso(alpha=1, max_iter=1000, random_state=seed)),\n",
    "                    param_grid={'polynomialfeatures__degree': [1, 2, 3, 4],\n",
    "                    'lasso__alpha': [1, 2, 3]},\n",
    "                    cv=kfold,\n",
    "                    refit=True)\n",
    "\n",
    "grid_2.fit(X_train, y_train)\n",
    "grid_2.best_params_"
   ]
  },
  {
   "cell_type": "code",
   "execution_count": null,
   "id": "7e7a8c8d",
   "metadata": {},
   "outputs": [],
   "source": [
    "#WYSZUKIWANIE OPTYMALNEGO STOPNIA WIELOMIANU METODĄ RIDGE\n",
    "#ANALIZOWANE STOPNIE WIELOMIANU: OD 1 DO 4\n",
    "#ANALIZOWANY WSPÓŁCZYNNIK ALFA: 0.01, 0.1, 1, 10\n",
    "#ZWRACANIE OPTYMALNEGO STOPNIA WIELOMIANU\n",
    "\n",
    "grid_3 = GridSearchCV(make_pipeline(PolynomialFeatures(degree=2), Ridge(alpha=1, max_iter=1000, random_state=seed)),\n",
    "                    param_grid={'polynomialfeatures__degree': [1, 2, 3, 4],\n",
    "                    'ridge__alpha': [1, 2, 3]},\n",
    "                    cv=kfold,\n",
    "                    refit=True)\n",
    "\n",
    "grid_3.fit(X_train, y_train)\n",
    "grid_3.best_params_"
   ]
  },
  {
   "cell_type": "code",
   "execution_count": null,
   "id": "6f87b9a9",
   "metadata": {},
   "outputs": [],
   "source": [
    "#WYSZUKIWANIE OPTYMALNEGO STOPNIA WIELOMIANU METODĄ REGRESJI WIELOMIANOWEJ\n",
    "#ANALIZOWANE STOPNIE WIELOMIANU: OD 1 DO 4\n",
    "#ZWRACANIE OPTYMALNEGO STOPNIA WIELOMIANU\n",
    "\n",
    "grid_4 = GridSearchCV(make_pipeline(PolynomialFeatures(degree=2), linear_model.LinearRegression()),\n",
    "                    param_grid={'polynomialfeatures__degree': [1, 2, 3, 4]},\n",
    "                    cv=kfold,\n",
    "                    refit=True)\n",
    "\n",
    "grid_4.fit(X_train, y_train)\n",
    "grid_4.best_params_"
   ]
  },
  {
   "cell_type": "code",
   "execution_count": null,
   "id": "54f0a702",
   "metadata": {},
   "outputs": [],
   "source": [
    "#TRENOWANIE MODELU MLP REGRESSOR \n",
    "\n",
    "grid_5 = GridSearchCV(MLPRegressor(hidden_layer_sizes=(100,100,100),activation='tanh',alpha=0.0001,max_iter=1000),\n",
    "                    param_grid={'hidden_layer_sizes': [(1000,1000,1000),(100,100,100),(10,10,10)],\n",
    "                                'alpha': [1, 10, 100 ,1000],\n",
    "                               'activation': ['identity', 'logistic', 'tanh', 'relu']                               \n",
    "                               },\n",
    "                    cv = kfold,\n",
    "                    n_jobs=1,\n",
    "                    refit=True)\n",
    "\n",
    "grid_5.fit(X_train,y_train)\n",
    "grid_5.best_params_"
   ]
  },
  {
   "cell_type": "code",
   "execution_count": null,
   "id": "d77b35dc",
   "metadata": {},
   "outputs": [],
   "source": [
    "#UTWORZENIE LIST OPTYMALNYCH PARAMETRÓW R^2, VAR, MAE, MSE DLA WSZYSTKICH ANALIZOWANYCH METOD\n",
    "\n",
    "\n",
    "\n",
    "models = []\n",
    "models.append(('ElasticNet', grid_1.best_estimator_))\n",
    "models.append(('Lasso', grid_2.best_estimator_))\n",
    "models.append(('Ridge', grid_3.best_estimator_))\n",
    "models.append(('LR', grid_4.best_estimator_))\n",
    "models.append(('MLP_R', grid_5.best_estimator_))\n",
    "\n",
    "r2 = []\n",
    "explained_variance_score = []\n",
    "median_absolute_error = []\n",
    "mean_squared_error = []\n",
    "mean_absolute_error = []\n",
    "\n",
    "for name, model in models:\n",
    "    print(name)\n",
    "    print(\"R^2: {}\".format(metrics.r2_score(y_test, model.predict(X_test)) ))\n",
    "    print(\"Explained variance score: {}\".format( metrics.explained_variance_score(y_test, model.predict(X_test)) ))\n",
    "    print(\"Median absolute error: {}\".format( metrics.median_absolute_error(y_test, model.predict(X_test)) ))\n",
    "    print(\"Mean squared error: {}\".format( metrics.mean_squared_error(y_test, model.predict(X_test)) ))\n",
    "    print(\"Mean absolute errors: {}\".format(metrics.mean_absolute_error(y_test, model.predict(X_test)) ))\n",
    "    r2.append(metrics.r2_score(y_test, model.predict(X_test)))\n",
    "    explained_variance_score.append(metrics.explained_variance_score(y_test, model.predict(X_test)))\n",
    "    median_absolute_error.append( metrics.median_absolute_error(y_test, model.predict(X_test)))\n",
    "    mean_squared_error.append(metrics.mean_squared_error(y_test, model.predict(X_test)))\n",
    "    mean_absolute_error.append(metrics.mean_absolute_error(y_test, model.predict(X_test)))\n",
    "\n",
    "print('LSTM')\n",
    "print(\"R^2: {}\".format(lstm_r2))\n",
    "print(\"Explained variance score: {}\".format(lstm_explained_variance_score))\n",
    "print(\"Median absolute error: {}\".format(lstm_median_absolute_error))\n",
    "print(\"Mean squared error: {}\".format(lstm_mean_absolute_error))\n",
    "print(\"Mean absolute errors: {}\".format(lstm_mean_absolute_error))"
   ]
  },
  {
   "cell_type": "code",
   "execution_count": null,
   "id": "9f452f60",
   "metadata": {},
   "outputs": [],
   "source": [
    "#UTWORZENIE DATAFRAME PARAMETRÓW R^2, VAR, MAE, MSE DLA WSZYSTKICH ANALIZOWANYCH METOD\n",
    "\n",
    "d_2 = {'r2': r2, \n",
    "     'explained_variance_score': explained_variance_score, \n",
    "     'median_absolute_error': median_absolute_error,\n",
    "     'mean_squared_error' : mean_squared_error,\n",
    "     'mean_absolute_error' : mean_absolute_error,\n",
    "    }\n",
    "\n",
    "df_2 = pd.DataFrame(data=d_2)\n",
    "df_2.insert(loc=0, column='Method', value=['ElasticNet','Lasso','Ridge', 'LR', 'MLP_R'])\n",
    "\n",
    "df_2"
   ]
  },
  {
   "cell_type": "code",
   "execution_count": null,
   "id": "1a646493",
   "metadata": {},
   "outputs": [],
   "source": [
    "df_1"
   ]
  },
  {
   "cell_type": "code",
   "execution_count": null,
   "id": "4292bb2d",
   "metadata": {},
   "outputs": [],
   "source": [
    "df_2"
   ]
  },
  {
   "cell_type": "code",
   "execution_count": null,
   "id": "bc339966",
   "metadata": {},
   "outputs": [],
   "source": [
    "pd.concat([df_1, df_2])"
   ]
  },
  {
   "cell_type": "code",
   "execution_count": null,
   "id": "e6ce1fcb",
   "metadata": {},
   "outputs": [],
   "source": [
    "#WNIOSEK: WSZYSTKIE MODELE/ALGORYTMU ZWRÓCIŁY WARTOŚĆ R^2 WIĘKSZĄ OD 0.9 TYM SAMYM MOŻEMY UZNAĆ, ŻE WSZYSTKIE MODELE/ALGORYTMY W SPOSÓB ZADOWALAJĄCY PRZEWIDUJĄ WARTOŚCI Z DANYCH TESTOWYCH"
   ]
  },
  {
   "cell_type": "code",
   "execution_count": null,
   "id": "0d802940",
   "metadata": {},
   "outputs": [],
   "source": [
    "#FILTROWANIE DATAFRAME DLA MAKSYMALNEJ WARTOŚCI R^2 ODPOWIADAJĄCEJ NAJSKUTECZNIEMU MODELOWI/ALGORYTMOWI MAKSYMALNEJ WARTOŚCI R^2\n",
    "\n",
    "df[df['r2'] == df['r2'].max()]"
   ]
  },
  {
   "cell_type": "code",
   "execution_count": null,
   "id": "ce039af0",
   "metadata": {},
   "outputs": [],
   "source": [
    "data_train_zeros = np.zeros(data_train.values.shape[0])\n",
    "data_test_chart= np.insert(data_test.values, 0, data_train_zeros)"
   ]
  },
  {
   "cell_type": "code",
   "execution_count": null,
   "id": "dc1f0dae",
   "metadata": {},
   "outputs": [],
   "source": [
    "# NARYSOWANIE WYKRESU CZĘŚCI TRENINGOWEJ, TESTOWEJ ORAZ WSZYSTKICH NAUCZONYCH MODELI - MODELE PRZEWIDUJĄ OSTATNIE 925 OBSERWACJI Z CZĘŚCI TESTOWEJ\n",
    "\n",
    "plt.figure(figsize=(20,10))\n",
    "plt.plot(data_train.values, label = 'train')\n",
    "plt.plot(data_test_chart, label = 'test')\n",
    "\n",
    "all_data = []\n",
    "for name, model in models: \n",
    "    data = np.zeros(data.shape[0], dtype=float)\n",
    "    data.fill(np.nan)\n",
    "    \n",
    "    for i in range(1,test_data_size):\n",
    "        point = np.array([data_values[ (data_values.shape[0]-((time_step+1*i))):(data_values.shape[0]-(1*i))]])\n",
    "        pre=model.predict(point)\n",
    "        data[-i]=pre\n",
    "        \n",
    "    all_data.append(data)\n",
    "        \n",
    "    plt.plot(data , label=name)\n",
    "    \n",
    "    \n",
    "plt.plot(test_predict_inverted_final, label='LSTM')\n",
    "plt.legend(loc='best')\n",
    "plt.grid()\n",
    "plt.xlabel('Ilosc dni')\n",
    "plt.ylabel('Cena')\n",
    "plt.show()"
   ]
  },
  {
   "cell_type": "code",
   "execution_count": null,
   "id": "16c377a0",
   "metadata": {},
   "outputs": [],
   "source": [
    "# NARYSOWANIE WYKRESU DLA CZĘŚCI TESTOWEJ NAUCZONYCH MODELI\n",
    "\n",
    "plt.figure(figsize=(20,10))\n",
    "\n",
    "for name, model in models: \n",
    "    \n",
    "    for i in range (1,test_data_size):\n",
    "        data_chart = data_test.values\n",
    "        point = np.array([data_values[ (data_values.shape[0]-((time_step+1*i))):(data_values.shape[0]-(1*i))]])\n",
    "        pre=model.predict(point)\n",
    "        data[-i]=pre\n",
    "       \n",
    "    plt.plot( data[-i:] , label=name)\n",
    "\n",
    "plt.plot(data_chart[-i:], 'k--', label='test')\n",
    "plt.plot(test_predict_inverted_final[-i:], label='LSTM')\n",
    "plt.legend(loc='best')\n",
    "plt.grid()\n",
    "plt.xlabel('Ilosc ostatnich dni')\n",
    "plt.ylabel('Cena')\n",
    "plt.show()"
   ]
  },
  {
   "cell_type": "code",
   "execution_count": null,
   "id": "dd421c6c",
   "metadata": {},
   "outputs": [],
   "source": [
    "# NARYSOWANIE WYKRESU OSTATNICH 450 OBSERWACJI DLA NAUCZONYCH MODELI\n",
    "\n",
    "plt.figure(figsize=(20,10))\n",
    "\n",
    "for name, model in models: \n",
    "    \n",
    "    for i in range (1,450):\n",
    "        data_chart = data_test.values\n",
    "    \n",
    "        point = np.array([data_values[ (data_values.shape[0]-((time_step+1*i))):(data_values.shape[0]-(1*i))]])\n",
    "        pre=model.predict(point)\n",
    "        data[-i]=pre\n",
    "       \n",
    "    plt.plot( data[-i:] , label=name)\n",
    "\n",
    "plt.plot(data_chart[-i:], 'k--', label='test')\n",
    "plt.plot(test_predict_inverted_final[-i:], label='LSTM')\n",
    "plt.legend(loc='best')\n",
    "plt.grid()\n",
    "plt.xlabel('Ilosc ostatnich dni')\n",
    "plt.ylabel('Cena')\n",
    "plt.show()"
   ]
  },
  {
   "cell_type": "code",
   "execution_count": null,
   "id": "392700f7",
   "metadata": {},
   "outputs": [],
   "source": [
    "# NARYSOWANIE WYKRESU OSTATNICH 225 OBSERWACJI DLA NAUCZONYCH MODELI\n",
    "\n",
    "plt.figure(figsize=(20,10))\n",
    "\n",
    "for name, model in models: \n",
    "    \n",
    "    for i in range (1,225):\n",
    "        data_chart = data_test.values\n",
    "    \n",
    "        point = np.array([data_values[ (data_values.shape[0]-((time_step+1*i))):(data_values.shape[0]-(1*i))]])\n",
    "        pre=model.predict(point)\n",
    "        data[-i]=pre\n",
    "       \n",
    "    plt.plot( data[-i:] , label=name)\n",
    "\n",
    "plt.plot(data_chart[-i:], 'k--', label='test')\n",
    "plt.plot(test_predict_inverted_final[-i:], label='LSTM')\n",
    "plt.legend(loc='best')\n",
    "plt.grid()\n",
    "plt.xlabel('Ilosc ostatnich dni')\n",
    "plt.ylabel('Cena')\n",
    "plt.show()"
   ]
  },
  {
   "cell_type": "code",
   "execution_count": null,
   "id": "9a8a316f",
   "metadata": {},
   "outputs": [],
   "source": [
    "# NARYSOWANIE WYKRESU OSTATNICH 110 OBSERWACJI DLA NAUCZONYCH MODELI\n",
    "\n",
    "plt.figure(figsize=(20,10))\n",
    "\n",
    "for name, model in models: \n",
    "    \n",
    "    for i in range (1,110):\n",
    "        data_chart = data_test.values\n",
    "    \n",
    "        point = np.array([data_values[ (data_values.shape[0]-((time_step+1*i))):(data_values.shape[0]-(1*i))]])\n",
    "        pre=model.predict(point)\n",
    "        data[-i]=pre\n",
    "       \n",
    "    plt.plot( data[-i:] , label=name)\n",
    "\n",
    "plt.plot(data_chart[-i:], 'k--', label='test')\n",
    "plt.plot(test_predict_inverted_final[-i:], label='LSTM')\n",
    "plt.legend(loc='best')\n",
    "plt.grid()\n",
    "plt.xlabel('Ilosc ostatnich dni')\n",
    "plt.ylabel('Cena')\n",
    "plt.show()"
   ]
  },
  {
   "cell_type": "code",
   "execution_count": null,
   "id": "91df3f69",
   "metadata": {},
   "outputs": [],
   "source": [
    "# NARYSOWANIE WYKRESU OSTATNICH 55 OBSERWACJI DLA NAUCZONYCH MODELI\n",
    "\n",
    "plt.figure(figsize=(20,10))\n",
    "\n",
    "for name, model in models: \n",
    "    \n",
    "    for i in range (1,55):\n",
    "        data_chart = data_test.values\n",
    "    \n",
    "        point = np.array([data_values[ (data_values.shape[0]-((time_step+1*i))):(data_values.shape[0]-(1*i))]])\n",
    "        pre=model.predict(point)\n",
    "        data[-i]=pre\n",
    "       \n",
    "    plt.plot( data[-i:] , label=name)\n",
    "\n",
    "plt.plot(data_chart[-i:], 'k--', label='test')\n",
    "plt.plot(test_predict_inverted_final[-i:], label='LSTM')\n",
    "plt.legend(loc='best')\n",
    "plt.grid()\n",
    "plt.xlabel('Ilosc ostatnich dni')\n",
    "plt.ylabel('Cena')\n",
    "plt.show()"
   ]
  },
  {
   "cell_type": "code",
   "execution_count": null,
   "id": "baa0fb69",
   "metadata": {},
   "outputs": [],
   "source": [
    "# NARYSOWANIE WYKRESU OSTATNICH 25 OBSERWACJI DLA NAUCZONYCH MODELI\n",
    "\n",
    "plt.figure(figsize=(20,10))\n",
    "\n",
    "for name, model in models: \n",
    "    \n",
    "    for i in range (1,25):\n",
    "        data_chart = data_test.values\n",
    "    \n",
    "        point = np.array([data_values[ (data_values.shape[0]-((time_step+1*i))):(data_values.shape[0]-(1*i))]])\n",
    "        pre=model.predict(point)\n",
    "        data[-i]=pre\n",
    "       \n",
    "    plt.plot( data[-i:] , label=name)\n",
    "\n",
    "plt.plot(data_chart[-i:], 'k--', label='test')\n",
    "plt.plot(test_predict_inverted_final[-i:], label='LSTM')\n",
    "plt.legend(loc='best')\n",
    "plt.grid()\n",
    "plt.xlabel('Ilosc ostatnich dni')\n",
    "plt.ylabel('Cena')\n",
    "plt.show()"
   ]
  },
  {
   "cell_type": "code",
   "execution_count": null,
   "id": "2f3eda8a",
   "metadata": {},
   "outputs": [],
   "source": [
    "# NARYSOWANIE WYKRESU OSTATNICH 12 OBSERWACJI DLA NAUCZONYCH MODELI\n",
    "\n",
    "plt.figure(figsize=(20,10))\n",
    "\n",
    "for name, model in models: \n",
    "    \n",
    "    for i in range (1,12):\n",
    "        data_chart = data_test.values\n",
    "    \n",
    "        point = np.array([data_values[ (data_values.shape[0]-((time_step+1*i))):(data_values.shape[0]-(1*i))]])\n",
    "        pre=model.predict(point)\n",
    "        data[-i]=pre\n",
    "       \n",
    "    plt.plot( data[-i:] , label=name)\n",
    "\n",
    "plt.plot(data_chart[-i:], 'k--', label='test')\n",
    "plt.plot(test_predict_inverted_final[-i:], label='LSTM')\n",
    "plt.legend(loc='best')\n",
    "plt.grid()\n",
    "plt.xlabel('Ilosc ostatnich dni')\n",
    "plt.ylabel('Cena')\n",
    "plt.show()"
   ]
  },
  {
   "cell_type": "code",
   "execution_count": null,
   "id": "5f8f6aae",
   "metadata": {},
   "outputs": [],
   "source": [
    "#WNIOSEK: POMIMO, IŻ ANALIZOWANE MODELE W SPOSÓB SATYSFAKCJONUJĄCY PRZEWIDUJĄ OBSERWACJE DLA DANYCH Z CZĘŚCI TESTOWEJ, NALEŻY PAMIĘTAĆ, IŻ MODEL PRZEWIDUJE WARTOŚCI NA PODSTAWIE OBSERWACJI Z DNIA POPRZEDNIEGO, MODEL JEST WRAŻLIWY NA WYDARZENIA NIESPODZIEWANE MAJĄCE NISKIE PRAWDOPODOBIEŃSTWO ORAZ WPROWADZAJĄCE DUŻĄ ZMIENNOŚĆ ANALIZOWANEGO WALORU/SPÓŁKI TZW. CZARNE ŁABĘDZIE"
   ]
  },
  {
   "cell_type": "code",
   "execution_count": null,
   "id": "1c9acba7",
   "metadata": {},
   "outputs": [],
   "source": []
  }
 ],
 "metadata": {
  "kernelspec": {
   "display_name": "Python 3 (ipykernel)",
   "language": "python",
   "name": "python3"
  },
  "language_info": {
   "codemirror_mode": {
    "name": "ipython",
    "version": 3
   },
   "file_extension": ".py",
   "mimetype": "text/x-python",
   "name": "python",
   "nbconvert_exporter": "python",
   "pygments_lexer": "ipython3",
   "version": "3.9.7"
  },
  "varInspector": {
   "cols": {
    "lenName": 16,
    "lenType": 16,
    "lenVar": 40
   },
   "kernels_config": {
    "python": {
     "delete_cmd_postfix": "",
     "delete_cmd_prefix": "del ",
     "library": "var_list.py",
     "varRefreshCmd": "print(var_dic_list())"
    },
    "r": {
     "delete_cmd_postfix": ") ",
     "delete_cmd_prefix": "rm(",
     "library": "var_list.r",
     "varRefreshCmd": "cat(var_dic_list()) "
    }
   },
   "types_to_exclude": [
    "module",
    "function",
    "builtin_function_or_method",
    "instance",
    "_Feature"
   ],
   "window_display": false
  }
 },
 "nbformat": 4,
 "nbformat_minor": 5
}
