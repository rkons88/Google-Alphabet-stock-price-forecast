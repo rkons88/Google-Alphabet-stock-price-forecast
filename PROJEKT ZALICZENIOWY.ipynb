{
 "cells": [
  {
   "cell_type": "code",
   "execution_count": 25,
   "id": "67f48d9b",
   "metadata": {},
   "outputs": [
    {
     "name": "stdout",
     "output_type": "stream",
     "text": [
      "Requirement already satisfied: yfinance in c:\\users\\krzysiek\\anaconda3\\lib\\site-packages (0.1.87)\n",
      "Requirement already satisfied: numpy>=1.15 in c:\\users\\krzysiek\\appdata\\roaming\\python\\python39\\site-packages (from yfinance) (1.21.0)\n",
      "Requirement already satisfied: lxml>=4.5.1 in c:\\users\\krzysiek\\appdata\\roaming\\python\\python39\\site-packages (from yfinance) (4.8.0)\n",
      "Requirement already satisfied: appdirs>=1.4.4 in c:\\users\\krzysiek\\anaconda3\\lib\\site-packages (from yfinance) (1.4.4)\n",
      "Requirement already satisfied: requests>=2.26 in c:\\users\\krzysiek\\appdata\\roaming\\python\\python39\\site-packages (from yfinance) (2.27.1)\n",
      "Requirement already satisfied: multitasking>=0.0.7 in c:\\users\\krzysiek\\anaconda3\\lib\\site-packages (from yfinance) (0.0.11)\n",
      "Requirement already satisfied: pandas>=0.24.0 in c:\\users\\krzysiek\\appdata\\roaming\\python\\python39\\site-packages (from yfinance) (1.4.1)\n",
      "Requirement already satisfied: python-dateutil>=2.8.1 in c:\\users\\krzysiek\\anaconda3\\lib\\site-packages (from pandas>=0.24.0->yfinance) (2.8.2)\n",
      "Requirement already satisfied: pytz>=2020.1 in c:\\users\\krzysiek\\appdata\\roaming\\python\\python39\\site-packages (from pandas>=0.24.0->yfinance) (2022.1)\n",
      "Requirement already satisfied: six>=1.5 in c:\\users\\krzysiek\\anaconda3\\lib\\site-packages (from python-dateutil>=2.8.1->pandas>=0.24.0->yfinance) (1.16.0)\n",
      "Requirement already satisfied: urllib3<1.27,>=1.21.1 in c:\\users\\krzysiek\\appdata\\roaming\\python\\python39\\site-packages (from requests>=2.26->yfinance) (1.26.9)\n",
      "Requirement already satisfied: certifi>=2017.4.17 in c:\\users\\krzysiek\\anaconda3\\lib\\site-packages (from requests>=2.26->yfinance) (2021.10.8)\n",
      "Requirement already satisfied: charset-normalizer~=2.0.0 in c:\\users\\krzysiek\\appdata\\roaming\\python\\python39\\site-packages (from requests>=2.26->yfinance) (2.0.12)\n",
      "Requirement already satisfied: idna<4,>=2.5 in c:\\users\\krzysiek\\appdata\\roaming\\python\\python39\\site-packages (from requests>=2.26->yfinance) (3.3)\n",
      "Note: you may need to restart the kernel to use updated packages.\n"
     ]
    }
   ],
   "source": [
    "pip install yfinance"
   ]
  },
  {
   "cell_type": "code",
   "execution_count": 262,
   "id": "ddc4e513",
   "metadata": {},
   "outputs": [],
   "source": [
    "import pandas as pd\n",
    "import numpy as np\n",
    "import matplotlib.pyplot as plt\n",
    "import statsmodels.api as sm\n",
    "\n",
    "import yfinance as yf\n",
    "\n",
    "from sklearn.model_selection import GridSearchCV\n",
    "from sklearn import linear_model\n",
    "from sklearn.linear_model import LinearRegression\n",
    "from sklearn.preprocessing import PolynomialFeatures\n",
    "from sklearn.linear_model import Ridge\n",
    "from sklearn.linear_model import Lasso\n",
    "from sklearn.linear_model import ElasticNet\n",
    "from sklearn.pipeline import make_pipeline\n",
    "from sklearn import model_selection\n",
    "\n",
    "from sklearn.neural_network import MLPRegressor"
   ]
  },
  {
   "cell_type": "code",
   "execution_count": 263,
   "id": "eba15e7e",
   "metadata": {},
   "outputs": [
    {
     "name": "stdout",
     "output_type": "stream",
     "text": [
      "[*********************100%***********************]  1 of 1 completed\n"
     ]
    },
    {
     "data": {
      "text/html": [
       "<div>\n",
       "<style scoped>\n",
       "    .dataframe tbody tr th:only-of-type {\n",
       "        vertical-align: middle;\n",
       "    }\n",
       "\n",
       "    .dataframe tbody tr th {\n",
       "        vertical-align: top;\n",
       "    }\n",
       "\n",
       "    .dataframe thead th {\n",
       "        text-align: right;\n",
       "    }\n",
       "</style>\n",
       "<table border=\"1\" class=\"dataframe\">\n",
       "  <thead>\n",
       "    <tr style=\"text-align: right;\">\n",
       "      <th></th>\n",
       "      <th>Open</th>\n",
       "      <th>High</th>\n",
       "      <th>Low</th>\n",
       "      <th>Close</th>\n",
       "      <th>Adj Close</th>\n",
       "      <th>Volume</th>\n",
       "    </tr>\n",
       "    <tr>\n",
       "      <th>Date</th>\n",
       "      <th></th>\n",
       "      <th></th>\n",
       "      <th></th>\n",
       "      <th></th>\n",
       "      <th></th>\n",
       "      <th></th>\n",
       "    </tr>\n",
       "  </thead>\n",
       "  <tbody>\n",
       "    <tr>\n",
       "      <th>2004-08-19</th>\n",
       "      <td>2.502503</td>\n",
       "      <td>2.604104</td>\n",
       "      <td>2.401401</td>\n",
       "      <td>2.511011</td>\n",
       "      <td>2.511011</td>\n",
       "      <td>893181924</td>\n",
       "    </tr>\n",
       "    <tr>\n",
       "      <th>2004-08-20</th>\n",
       "      <td>2.527778</td>\n",
       "      <td>2.729730</td>\n",
       "      <td>2.515015</td>\n",
       "      <td>2.710460</td>\n",
       "      <td>2.710460</td>\n",
       "      <td>456686856</td>\n",
       "    </tr>\n",
       "    <tr>\n",
       "      <th>2004-08-23</th>\n",
       "      <td>2.771522</td>\n",
       "      <td>2.839840</td>\n",
       "      <td>2.728979</td>\n",
       "      <td>2.737738</td>\n",
       "      <td>2.737738</td>\n",
       "      <td>365122512</td>\n",
       "    </tr>\n",
       "    <tr>\n",
       "      <th>2004-08-24</th>\n",
       "      <td>2.783784</td>\n",
       "      <td>2.792793</td>\n",
       "      <td>2.591842</td>\n",
       "      <td>2.624374</td>\n",
       "      <td>2.624374</td>\n",
       "      <td>304946748</td>\n",
       "    </tr>\n",
       "    <tr>\n",
       "      <th>2004-08-25</th>\n",
       "      <td>2.626627</td>\n",
       "      <td>2.702703</td>\n",
       "      <td>2.599600</td>\n",
       "      <td>2.652653</td>\n",
       "      <td>2.652653</td>\n",
       "      <td>183772044</td>\n",
       "    </tr>\n",
       "  </tbody>\n",
       "</table>\n",
       "</div>"
      ],
      "text/plain": [
       "                Open      High       Low     Close  Adj Close     Volume\n",
       "Date                                                                    \n",
       "2004-08-19  2.502503  2.604104  2.401401  2.511011   2.511011  893181924\n",
       "2004-08-20  2.527778  2.729730  2.515015  2.710460   2.710460  456686856\n",
       "2004-08-23  2.771522  2.839840  2.728979  2.737738   2.737738  365122512\n",
       "2004-08-24  2.783784  2.792793  2.591842  2.624374   2.624374  304946748\n",
       "2004-08-25  2.626627  2.702703  2.599600  2.652653   2.652653  183772044"
      ]
     },
     "execution_count": 263,
     "metadata": {},
     "output_type": "execute_result"
    }
   ],
   "source": [
    "# IMPORT DANYCH Z WYKORZYSTANIEM YFINANCE\n",
    "\n",
    "data = yf.download('GOOGL', index_col = 0, squeeze = True, parse_dates=['Date'])\n",
    "\n",
    "#WYSWIETLENIE PIERWSZYCH 5CIU OBSERWACJI Z DANYCH\n",
    "\n",
    "data.head()"
   ]
  },
  {
   "cell_type": "code",
   "execution_count": 264,
   "id": "6a7a60eb",
   "metadata": {},
   "outputs": [
    {
     "data": {
      "text/plain": [
       "Open         0\n",
       "High         0\n",
       "Low          0\n",
       "Close        0\n",
       "Adj Close    0\n",
       "Volume       0\n",
       "dtype: int64"
      ]
     },
     "execution_count": 264,
     "metadata": {},
     "output_type": "execute_result"
    }
   ],
   "source": [
    "#SPRAWDZENIE CZY W DANYCH ZNAJDUJĄ SIĘ BRAKUJĄCE WARTOŚCI\n",
    "\n",
    "data.isna().sum()"
   ]
  },
  {
   "cell_type": "code",
   "execution_count": 265,
   "id": "1ff62127",
   "metadata": {},
   "outputs": [
    {
     "data": {
      "text/plain": [
       "(4625, 6)"
      ]
     },
     "execution_count": 265,
     "metadata": {},
     "output_type": "execute_result"
    }
   ],
   "source": [
    "#WYŚWIETLENIE WYMIARÓW DANYCH\n",
    "\n",
    "data.shape"
   ]
  },
  {
   "cell_type": "code",
   "execution_count": 266,
   "id": "6e0b67cc",
   "metadata": {},
   "outputs": [],
   "source": [
    "#FILTROWANIE ANALIZOWANYCH DANYCH - NAS INTERESUJE CENA ZAMKNIECIA\n",
    "\n",
    "data = data['Close']"
   ]
  },
  {
   "cell_type": "code",
   "execution_count": 267,
   "id": "b352f0fb",
   "metadata": {},
   "outputs": [
    {
     "data": {
      "image/png": "[encoded data removed]",
      "text/plain": [
       "<Figure size 1440x720 with 1 Axes>"
      ]
     },
     "metadata": {
      "needs_background": "light"
     },
     "output_type": "display_data"
    }
   ],
   "source": [
    "#NARYSOWANIE WYKRESU CENY ZAMKNIECIA W CZASIE\n",
    "\n",
    "plt.figure(figsize=(20, 10))\n",
    "data.plot()\n",
    "plt.show()"
   ]
  },
  {
   "cell_type": "code",
   "execution_count": 268,
   "id": "e253149c",
   "metadata": {},
   "outputs": [],
   "source": [
    "from statsmodels.tsa.stattools import adfuller"
   ]
  },
  {
   "cell_type": "code",
   "execution_count": 269,
   "id": "43602f5a",
   "metadata": {},
   "outputs": [],
   "source": [
    "#ZAIMPORTOWANIE FUNKCJI SPRAWDZAJĄCEJ STACJONARNOŚĆ SZEREGU CZASOWEGO\n",
    "\n",
    "def test_stationarity(timeseries):\n",
    "    rolmean = timeseries.rolling(12).mean()#.rolling_mean(timeseries, window=12)\n",
    "    rolstd = timeseries.rolling(12).std()\n",
    "    \n",
    "    #Plot rolling statistics:\n",
    "    plt.figure(figsize=(20,10));\n",
    "    orig = plt.plot(timeseries, color='blue',label='Original')\n",
    "    mean = plt.plot(rolmean, color='red', label='Rolling Mean')\n",
    "    std = plt.plot(rolstd, color='black', label = 'Rolling Std')\n",
    "    plt.legend(loc='best')\n",
    "    plt.title('Rolling Mean & Standard Deviation')\n",
    "    plt.show(block=False)\n",
    "    print('Results of Dickey-Fuller Test:')\n",
    "    \n",
    "    dftest = adfuller(timeseries, autolag='AIC')\n",
    "    dfoutput = pd.Series(dftest[0:4], index=['Test Statistic','p-value','#Lags Used','Number of Observations Used'])\n",
    "    for key,value in dftest[4].items():\n",
    "        dfoutput['Critical Value (%s)'%key] = value\n",
    "    print(dfoutput)"
   ]
  },
  {
   "cell_type": "code",
   "execution_count": 270,
   "id": "8569c91f",
   "metadata": {},
   "outputs": [
    {
     "data": {
      "image/png": "[encoded data removed]",
      "text/plain": [
       "<Figure size 1440x720 with 1 Axes>"
      ]
     },
     "metadata": {
      "needs_background": "light"
     },
     "output_type": "display_data"
    },
    {
     "name": "stdout",
     "output_type": "stream",
     "text": [
      "Results of Dickey-Fuller Test:\n",
      "Test Statistic                   -0.328779\n",
      "p-value                           0.921328\n",
      "#Lags Used                       23.000000\n",
      "Number of Observations Used    4601.000000\n",
      "Critical Value (1%)              -3.431772\n",
      "Critical Value (5%)              -2.862168\n",
      "Critical Value (10%)             -2.567104\n",
      "dtype: float64\n"
     ]
    }
   ],
   "source": [
    "#SPRAWDZENIE STACJONARNOŚCI SZEREGU CZASOWEGO\n",
    "\n",
    "test_stationarity(data)"
   ]
  },
  {
   "cell_type": "code",
   "execution_count": 271,
   "id": "0ffb3cea",
   "metadata": {},
   "outputs": [
    {
     "data": {
      "text/plain": [
       "0.9213282705356844"
      ]
     },
     "execution_count": 271,
     "metadata": {},
     "output_type": "execute_result"
    }
   ],
   "source": [
    "#SPRAWDZENIE P-VALUE\n",
    "\n",
    "_,pval,_,_,_,_ =adfuller(data, autolag='AIC')\n",
    "pval"
   ]
  },
  {
   "cell_type": "code",
   "execution_count": 272,
   "id": "f9128532",
   "metadata": {},
   "outputs": [
    {
     "name": "stdout",
     "output_type": "stream",
     "text": [
      "pval > 0.05 -> przyjmujemy hipoteze zerowa -> szereg czasowy jest niestacjonarny\n"
     ]
    }
   ],
   "source": [
    "#SPRAWDZENIE P-VALUE\n",
    "\n",
    "if pval > 0.05:\n",
    "    print('pval > 0.05 -> przyjmujemy hipoteze zerowa -> szereg czasowy jest niestacjonarny')\n",
    "else:\n",
    "    print('pval < 0.05 -> odrzucamy hipoteze zerowa -> szereg czasowy jest stacjonarny')"
   ]
  },
  {
   "cell_type": "code",
   "execution_count": 273,
   "id": "8b6e98a5",
   "metadata": {},
   "outputs": [
    {
     "data": {
      "image/png": "[encoded data removed]",
      "text/plain": [
       "<Figure size 1440x720 with 1 Axes>"
      ]
     },
     "metadata": {
      "needs_background": "light"
     },
     "output_type": "display_data"
    }
   ],
   "source": [
    "#SPRAWDZENIE AUTOKORELACJI\n",
    "\n",
    "from pandas.plotting import autocorrelation_plot\n",
    "\n",
    "plt.figure(figsize=(20,10));\n",
    "autocorrelation_plot(data)\n",
    "plt.show()"
   ]
  },
  {
   "cell_type": "code",
   "execution_count": 274,
   "id": "c48d5088",
   "metadata": {},
   "outputs": [
    {
     "data": {
      "image/png": "[encoded data removed]",
      "text/plain": [
       "<Figure size 864x576 with 2 Axes>"
      ]
     },
     "metadata": {
      "needs_background": "light"
     },
     "output_type": "display_data"
    }
   ],
   "source": [
    "#SPRAWDZENIE AUTOKORELACJI\n",
    "\n",
    "fig = plt.figure(figsize=(12,8))\n",
    "ax1 = fig.add_subplot(211)\n",
    "fig = sm.graphics.tsa.plot_acf(data.values, lags=40, ax=ax1)\n",
    "ax2 = fig.add_subplot(212)\n",
    "fig = sm.graphics.tsa.plot_pacf(data.values, lags=40, ax=ax2)\n",
    "plt.show()"
   ]
  },
  {
   "cell_type": "code",
   "execution_count": 275,
   "id": "08289b4d",
   "metadata": {},
   "outputs": [],
   "source": [
    "def series_to_supervised(data, n_in=1, n_out=1, dropnan=True):\n",
    "    \"\"\"\n",
    "    Frame a time series as a supervised learning dataset.\n",
    "    Arguments:\n",
    "        data: Sequence of observations as a list or NumPy array.\n",
    "        n_in: Number of lag observations as input (X).\n",
    "        n_out: Number of observations as output (y).\n",
    "        dropnan: Boolean whether or not to drop rows with NaN values.\n",
    "    Returns:\n",
    "        Pandas DataFrame of series framed for supervised learning.\n",
    "    \"\"\"\n",
    "    n_vars = 1 if type(data) is list else data.shape[1]\n",
    "    df = pd.DataFrame(data)\n",
    "    cols, names = list(), list()\n",
    "    # input sequence (t-n, ... t-1)\n",
    "    for i in range(n_in, 0, -1):\n",
    "        cols.append(df.shift(i))\n",
    "        names += [('var%d(t-%d)' % (j+1, i)) for j in range(n_vars)]\n",
    "    # forecast sequence (t, t+1, ... t+n)\n",
    "    for i in range(0, n_out):\n",
    "        cols.append(df.shift(-i))\n",
    "        if i == 0:\n",
    "            names += [('var%d(t)' % (j+1)) for j in range(n_vars)]\n",
    "        else:\n",
    "            names += [('var%d(t+%d)' % (j+1, i)) for j in range(n_vars)]\n",
    "    # put it all together\n",
    "    agg = pd.concat(cols, axis=1)\n",
    "    agg.columns = names\n",
    "    # drop rows with NaN values\n",
    "    if dropnan:\n",
    "        agg.dropna(inplace=True)\n",
    "    return agg"
   ]
  },
  {
   "cell_type": "code",
   "execution_count": 276,
   "id": "b463f426",
   "metadata": {},
   "outputs": [],
   "source": [
    "data_np = data.values\n",
    "test_data = data.values[-20:]\n",
    "data = data.values[:-20]"
   ]
  },
  {
   "cell_type": "code",
   "execution_count": 277,
   "id": "2f1e0712",
   "metadata": {},
   "outputs": [
    {
     "name": "stdout",
     "output_type": "stream",
     "text": [
      "(20,)\n",
      "(4605,)\n"
     ]
    }
   ],
   "source": [
    "print(test_data.shape)\n",
    "print(data.shape)"
   ]
  },
  {
   "cell_type": "code",
   "execution_count": 278,
   "id": "2fe7a6b7",
   "metadata": {},
   "outputs": [
    {
     "data": {
      "text/html": [
       "<div>\n",
       "<style scoped>\n",
       "    .dataframe tbody tr th:only-of-type {\n",
       "        vertical-align: middle;\n",
       "    }\n",
       "\n",
       "    .dataframe tbody tr th {\n",
       "        vertical-align: top;\n",
       "    }\n",
       "\n",
       "    .dataframe thead th {\n",
       "        text-align: right;\n",
       "    }\n",
       "</style>\n",
       "<table border=\"1\" class=\"dataframe\">\n",
       "  <thead>\n",
       "    <tr style=\"text-align: right;\">\n",
       "      <th></th>\n",
       "      <th>var1(t-15)</th>\n",
       "      <th>var1(t-14)</th>\n",
       "      <th>var1(t-13)</th>\n",
       "      <th>var1(t-12)</th>\n",
       "      <th>var1(t-11)</th>\n",
       "      <th>var1(t-10)</th>\n",
       "      <th>var1(t-9)</th>\n",
       "      <th>var1(t-8)</th>\n",
       "      <th>var1(t-7)</th>\n",
       "      <th>var1(t-6)</th>\n",
       "      <th>var1(t-5)</th>\n",
       "      <th>var1(t-4)</th>\n",
       "      <th>var1(t-3)</th>\n",
       "      <th>var1(t-2)</th>\n",
       "      <th>var1(t-1)</th>\n",
       "      <th>var1(t)</th>\n",
       "    </tr>\n",
       "  </thead>\n",
       "  <tbody>\n",
       "    <tr>\n",
       "      <th>15</th>\n",
       "      <td>2.511011</td>\n",
       "      <td>2.710460</td>\n",
       "      <td>2.737738</td>\n",
       "      <td>2.624374</td>\n",
       "      <td>2.652653</td>\n",
       "      <td>2.700450</td>\n",
       "      <td>2.656406</td>\n",
       "      <td>2.552803</td>\n",
       "      <td>2.561812</td>\n",
       "      <td>2.508759</td>\n",
       "      <td>2.540290</td>\n",
       "      <td>2.502753</td>\n",
       "      <td>2.542042</td>\n",
       "      <td>2.560060</td>\n",
       "      <td>2.560310</td>\n",
       "      <td>2.635886</td>\n",
       "    </tr>\n",
       "    <tr>\n",
       "      <th>16</th>\n",
       "      <td>2.710460</td>\n",
       "      <td>2.737738</td>\n",
       "      <td>2.624374</td>\n",
       "      <td>2.652653</td>\n",
       "      <td>2.700450</td>\n",
       "      <td>2.656406</td>\n",
       "      <td>2.552803</td>\n",
       "      <td>2.561812</td>\n",
       "      <td>2.508759</td>\n",
       "      <td>2.540290</td>\n",
       "      <td>2.502753</td>\n",
       "      <td>2.542042</td>\n",
       "      <td>2.560060</td>\n",
       "      <td>2.560310</td>\n",
       "      <td>2.635886</td>\n",
       "      <td>2.690190</td>\n",
       "    </tr>\n",
       "    <tr>\n",
       "      <th>17</th>\n",
       "      <td>2.737738</td>\n",
       "      <td>2.624374</td>\n",
       "      <td>2.652653</td>\n",
       "      <td>2.700450</td>\n",
       "      <td>2.656406</td>\n",
       "      <td>2.552803</td>\n",
       "      <td>2.561812</td>\n",
       "      <td>2.508759</td>\n",
       "      <td>2.540290</td>\n",
       "      <td>2.502753</td>\n",
       "      <td>2.542042</td>\n",
       "      <td>2.560060</td>\n",
       "      <td>2.560310</td>\n",
       "      <td>2.635886</td>\n",
       "      <td>2.690190</td>\n",
       "      <td>2.790040</td>\n",
       "    </tr>\n",
       "    <tr>\n",
       "      <th>18</th>\n",
       "      <td>2.624374</td>\n",
       "      <td>2.652653</td>\n",
       "      <td>2.700450</td>\n",
       "      <td>2.656406</td>\n",
       "      <td>2.552803</td>\n",
       "      <td>2.561812</td>\n",
       "      <td>2.508759</td>\n",
       "      <td>2.540290</td>\n",
       "      <td>2.502753</td>\n",
       "      <td>2.542042</td>\n",
       "      <td>2.560060</td>\n",
       "      <td>2.560310</td>\n",
       "      <td>2.635886</td>\n",
       "      <td>2.690190</td>\n",
       "      <td>2.790040</td>\n",
       "      <td>2.802803</td>\n",
       "    </tr>\n",
       "    <tr>\n",
       "      <th>19</th>\n",
       "      <td>2.652653</td>\n",
       "      <td>2.700450</td>\n",
       "      <td>2.656406</td>\n",
       "      <td>2.552803</td>\n",
       "      <td>2.561812</td>\n",
       "      <td>2.508759</td>\n",
       "      <td>2.540290</td>\n",
       "      <td>2.502753</td>\n",
       "      <td>2.542042</td>\n",
       "      <td>2.560060</td>\n",
       "      <td>2.560310</td>\n",
       "      <td>2.635886</td>\n",
       "      <td>2.690190</td>\n",
       "      <td>2.790040</td>\n",
       "      <td>2.802803</td>\n",
       "      <td>2.852102</td>\n",
       "    </tr>\n",
       "  </tbody>\n",
       "</table>\n",
       "</div>"
      ],
      "text/plain": [
       "    var1(t-15)  var1(t-14)  var1(t-13)  var1(t-12)  var1(t-11)  var1(t-10)  \\\n",
       "15    2.511011    2.710460    2.737738    2.624374    2.652653    2.700450   \n",
       "16    2.710460    2.737738    2.624374    2.652653    2.700450    2.656406   \n",
       "17    2.737738    2.624374    2.652653    2.700450    2.656406    2.552803   \n",
       "18    2.624374    2.652653    2.700450    2.656406    2.552803    2.561812   \n",
       "19    2.652653    2.700450    2.656406    2.552803    2.561812    2.508759   \n",
       "\n",
       "    var1(t-9)  var1(t-8)  var1(t-7)  var1(t-6)  var1(t-5)  var1(t-4)  \\\n",
       "15   2.656406   2.552803   2.561812   2.508759   2.540290   2.502753   \n",
       "16   2.552803   2.561812   2.508759   2.540290   2.502753   2.542042   \n",
       "17   2.561812   2.508759   2.540290   2.502753   2.542042   2.560060   \n",
       "18   2.508759   2.540290   2.502753   2.542042   2.560060   2.560310   \n",
       "19   2.540290   2.502753   2.542042   2.560060   2.560310   2.635886   \n",
       "\n",
       "    var1(t-3)  var1(t-2)  var1(t-1)   var1(t)  \n",
       "15   2.542042   2.560060   2.560310  2.635886  \n",
       "16   2.560060   2.560310   2.635886  2.690190  \n",
       "17   2.560310   2.635886   2.690190  2.790040  \n",
       "18   2.635886   2.690190   2.790040  2.802803  \n",
       "19   2.690190   2.790040   2.802803  2.852102  "
      ]
     },
     "execution_count": 278,
     "metadata": {},
     "output_type": "execute_result"
    }
   ],
   "source": [
    "df = pd.DataFrame()\n",
    "df['t'] = [x for x in data]\n",
    "dataframe = series_to_supervised(df, 15)\n",
    "dataframe.head()"
   ]
  },
  {
   "cell_type": "code",
   "execution_count": 279,
   "id": "63b53dda",
   "metadata": {},
   "outputs": [],
   "source": [
    "array = dataframe.values\n",
    "# split into input and output\n",
    "X = array[:,0:-1]\n",
    "y = array[:,-1]"
   ]
  },
  {
   "cell_type": "code",
   "execution_count": 280,
   "id": "aa5acfe8",
   "metadata": {},
   "outputs": [],
   "source": [
    "#PODZIAŁ DANYCH NA CZĘŚĆ TESTOWĄ ORAZ TRENINGOWĄ\n",
    "\n",
    "from sklearn.model_selection import train_test_split\n",
    "X_train, X_test, y_train, y_test = train_test_split(X, y, test_size=0.20, random_state=42)"
   ]
  },
  {
   "cell_type": "code",
   "execution_count": 281,
   "id": "3a1caba8",
   "metadata": {},
   "outputs": [],
   "source": [
    "#DEFINIOWANIE PARAMETRÓW CROSS-VALIDATION\n",
    "\n",
    "seed=123\n",
    "kfold = model_selection.KFold(n_splits=5, random_state=None)"
   ]
  },
  {
   "cell_type": "code",
   "execution_count": 282,
   "id": "abbc8cbd",
   "metadata": {},
   "outputs": [
    {
     "name": "stderr",
     "output_type": "stream",
     "text": [
      "C:\\Users\\Krzysiek\\anaconda3\\lib\\site-packages\\sklearn\\linear_model\\_coordinate_descent.py:530: ConvergenceWarning: Objective did not converge. You might want to increase the number of iterations. Duality gap: 2216.3145469454166, tolerance: 350.762449471431\n",
      "  model = cd_fast.enet_coordinate_descent(\n",
      "C:\\Users\\Krzysiek\\anaconda3\\lib\\site-packages\\sklearn\\linear_model\\_coordinate_descent.py:530: ConvergenceWarning: Objective did not converge. You might want to increase the number of iterations. Duality gap: 1962.8532803315895, tolerance: 344.2567796888789\n",
      "  model = cd_fast.enet_coordinate_descent(\n",
      "C:\\Users\\Krzysiek\\anaconda3\\lib\\site-packages\\sklearn\\linear_model\\_coordinate_descent.py:530: ConvergenceWarning: Objective did not converge. You might want to increase the number of iterations. Duality gap: 2131.0847776990454, tolerance: 353.8900763974535\n",
      "  model = cd_fast.enet_coordinate_descent(\n",
      "C:\\Users\\Krzysiek\\anaconda3\\lib\\site-packages\\sklearn\\linear_model\\_coordinate_descent.py:530: ConvergenceWarning: Objective did not converge. You might want to increase the number of iterations. Duality gap: 2127.0877959487766, tolerance: 347.8563697637195\n",
      "  model = cd_fast.enet_coordinate_descent(\n",
      "C:\\Users\\Krzysiek\\anaconda3\\lib\\site-packages\\sklearn\\linear_model\\_coordinate_descent.py:530: ConvergenceWarning: Objective did not converge. You might want to increase the number of iterations. Duality gap: 2211.9597850946266, tolerance: 359.09079954052123\n",
      "  model = cd_fast.enet_coordinate_descent(\n",
      "C:\\Users\\Krzysiek\\anaconda3\\lib\\site-packages\\sklearn\\linear_model\\_coordinate_descent.py:530: ConvergenceWarning: Objective did not converge. You might want to increase the number of iterations. Duality gap: 1873.4003806734927, tolerance: 350.762449471431\n",
      "  model = cd_fast.enet_coordinate_descent(\n",
      "C:\\Users\\Krzysiek\\anaconda3\\lib\\site-packages\\sklearn\\linear_model\\_coordinate_descent.py:530: ConvergenceWarning: Objective did not converge. You might want to increase the number of iterations. Duality gap: 1683.2083787080473, tolerance: 344.2567796888789\n",
      "  model = cd_fast.enet_coordinate_descent(\n",
      "C:\\Users\\Krzysiek\\anaconda3\\lib\\site-packages\\sklearn\\linear_model\\_coordinate_descent.py:530: ConvergenceWarning: Objective did not converge. You might want to increase the number of iterations. Duality gap: 1896.8956378372077, tolerance: 353.8900763974535\n",
      "  model = cd_fast.enet_coordinate_descent(\n",
      "C:\\Users\\Krzysiek\\anaconda3\\lib\\site-packages\\sklearn\\linear_model\\_coordinate_descent.py:530: ConvergenceWarning: Objective did not converge. You might want to increase the number of iterations. Duality gap: 1903.9167946542668, tolerance: 347.8563697637195\n",
      "  model = cd_fast.enet_coordinate_descent(\n",
      "C:\\Users\\Krzysiek\\anaconda3\\lib\\site-packages\\sklearn\\linear_model\\_coordinate_descent.py:530: ConvergenceWarning: Objective did not converge. You might want to increase the number of iterations. Duality gap: 1934.5237036656067, tolerance: 359.09079954052123\n",
      "  model = cd_fast.enet_coordinate_descent(\n",
      "C:\\Users\\Krzysiek\\anaconda3\\lib\\site-packages\\sklearn\\linear_model\\_coordinate_descent.py:530: ConvergenceWarning: Objective did not converge. You might want to increase the number of iterations. Duality gap: 1635.7083733266684, tolerance: 350.762449471431\n",
      "  model = cd_fast.enet_coordinate_descent(\n",
      "C:\\Users\\Krzysiek\\anaconda3\\lib\\site-packages\\sklearn\\linear_model\\_coordinate_descent.py:530: ConvergenceWarning: Objective did not converge. You might want to increase the number of iterations. Duality gap: 1477.8702073244326, tolerance: 344.2567796888789\n",
      "  model = cd_fast.enet_coordinate_descent(\n",
      "C:\\Users\\Krzysiek\\anaconda3\\lib\\site-packages\\sklearn\\linear_model\\_coordinate_descent.py:530: ConvergenceWarning: Objective did not converge. You might want to increase the number of iterations. Duality gap: 1660.7072334095526, tolerance: 353.8900763974535\n",
      "  model = cd_fast.enet_coordinate_descent(\n",
      "C:\\Users\\Krzysiek\\anaconda3\\lib\\site-packages\\sklearn\\linear_model\\_coordinate_descent.py:530: ConvergenceWarning: Objective did not converge. You might want to increase the number of iterations. Duality gap: 1658.4530838397611, tolerance: 347.8563697637195\n",
      "  model = cd_fast.enet_coordinate_descent(\n",
      "C:\\Users\\Krzysiek\\anaconda3\\lib\\site-packages\\sklearn\\linear_model\\_coordinate_descent.py:530: ConvergenceWarning: Objective did not converge. You might want to increase the number of iterations. Duality gap: 1696.6168232588677, tolerance: 359.09079954052123\n",
      "  model = cd_fast.enet_coordinate_descent(\n",
      "C:\\Users\\Krzysiek\\anaconda3\\lib\\site-packages\\sklearn\\linear_model\\_coordinate_descent.py:530: ConvergenceWarning: Objective did not converge. You might want to increase the number of iterations. Duality gap: 1672.4604036004414, tolerance: 350.762449471431\n",
      "  model = cd_fast.enet_coordinate_descent(\n",
      "C:\\Users\\Krzysiek\\anaconda3\\lib\\site-packages\\sklearn\\linear_model\\_coordinate_descent.py:530: ConvergenceWarning: Objective did not converge. You might want to increase the number of iterations. Duality gap: 1517.3254032605837, tolerance: 344.2567796888789\n",
      "  model = cd_fast.enet_coordinate_descent(\n",
      "C:\\Users\\Krzysiek\\anaconda3\\lib\\site-packages\\sklearn\\linear_model\\_coordinate_descent.py:530: ConvergenceWarning: Objective did not converge. You might want to increase the number of iterations. Duality gap: 1715.5111448784257, tolerance: 353.8900763974535\n",
      "  model = cd_fast.enet_coordinate_descent(\n",
      "C:\\Users\\Krzysiek\\anaconda3\\lib\\site-packages\\sklearn\\linear_model\\_coordinate_descent.py:530: ConvergenceWarning: Objective did not converge. You might want to increase the number of iterations. Duality gap: 1705.9900253668516, tolerance: 347.8563697637195\n",
      "  model = cd_fast.enet_coordinate_descent(\n",
      "C:\\Users\\Krzysiek\\anaconda3\\lib\\site-packages\\sklearn\\linear_model\\_coordinate_descent.py:530: ConvergenceWarning: Objective did not converge. You might want to increase the number of iterations. Duality gap: 1724.0129580019072, tolerance: 359.09079954052123\n",
      "  model = cd_fast.enet_coordinate_descent(\n",
      "C:\\Users\\Krzysiek\\anaconda3\\lib\\site-packages\\sklearn\\linear_model\\_coordinate_descent.py:530: ConvergenceWarning: Objective did not converge. You might want to increase the number of iterations. Duality gap: 2232.178204339146, tolerance: 350.762449471431\n",
      "  model = cd_fast.enet_coordinate_descent(\n",
      "C:\\Users\\Krzysiek\\anaconda3\\lib\\site-packages\\sklearn\\linear_model\\_coordinate_descent.py:530: ConvergenceWarning: Objective did not converge. You might want to increase the number of iterations. Duality gap: 1995.1543835301488, tolerance: 344.2567796888789\n",
      "  model = cd_fast.enet_coordinate_descent(\n",
      "C:\\Users\\Krzysiek\\anaconda3\\lib\\site-packages\\sklearn\\linear_model\\_coordinate_descent.py:530: ConvergenceWarning: Objective did not converge. You might want to increase the number of iterations. Duality gap: 2161.146697394046, tolerance: 353.8900763974535\n",
      "  model = cd_fast.enet_coordinate_descent(\n",
      "C:\\Users\\Krzysiek\\anaconda3\\lib\\site-packages\\sklearn\\linear_model\\_coordinate_descent.py:530: ConvergenceWarning: Objective did not converge. You might want to increase the number of iterations. Duality gap: 2137.957582591529, tolerance: 347.8563697637195\n",
      "  model = cd_fast.enet_coordinate_descent(\n",
      "C:\\Users\\Krzysiek\\anaconda3\\lib\\site-packages\\sklearn\\linear_model\\_coordinate_descent.py:530: ConvergenceWarning: Objective did not converge. You might want to increase the number of iterations. Duality gap: 2230.2800138820694, tolerance: 359.09079954052123\n",
      "  model = cd_fast.enet_coordinate_descent(\n",
      "C:\\Users\\Krzysiek\\anaconda3\\lib\\site-packages\\sklearn\\linear_model\\_coordinate_descent.py:530: ConvergenceWarning: Objective did not converge. You might want to increase the number of iterations. Duality gap: 2014.9789777756432, tolerance: 350.762449471431\n",
      "  model = cd_fast.enet_coordinate_descent(\n",
      "C:\\Users\\Krzysiek\\anaconda3\\lib\\site-packages\\sklearn\\linear_model\\_coordinate_descent.py:530: ConvergenceWarning: Objective did not converge. You might want to increase the number of iterations. Duality gap: 1825.157508044569, tolerance: 344.2567796888789\n",
      "  model = cd_fast.enet_coordinate_descent(\n",
      "C:\\Users\\Krzysiek\\anaconda3\\lib\\site-packages\\sklearn\\linear_model\\_coordinate_descent.py:530: ConvergenceWarning: Objective did not converge. You might want to increase the number of iterations. Duality gap: 2038.162754919017, tolerance: 353.8900763974535\n",
      "  model = cd_fast.enet_coordinate_descent(\n"
     ]
    },
    {
     "name": "stderr",
     "output_type": "stream",
     "text": [
      "C:\\Users\\Krzysiek\\anaconda3\\lib\\site-packages\\sklearn\\linear_model\\_coordinate_descent.py:530: ConvergenceWarning: Objective did not converge. You might want to increase the number of iterations. Duality gap: 2045.2219309741374, tolerance: 347.8563697637195\n",
      "  model = cd_fast.enet_coordinate_descent(\n",
      "C:\\Users\\Krzysiek\\anaconda3\\lib\\site-packages\\sklearn\\linear_model\\_coordinate_descent.py:530: ConvergenceWarning: Objective did not converge. You might want to increase the number of iterations. Duality gap: 2075.749446837512, tolerance: 359.09079954052123\n",
      "  model = cd_fast.enet_coordinate_descent(\n",
      "C:\\Users\\Krzysiek\\anaconda3\\lib\\site-packages\\sklearn\\linear_model\\_coordinate_descent.py:530: ConvergenceWarning: Objective did not converge. You might want to increase the number of iterations. Duality gap: 1776.3017222382855, tolerance: 350.762449471431\n",
      "  model = cd_fast.enet_coordinate_descent(\n",
      "C:\\Users\\Krzysiek\\anaconda3\\lib\\site-packages\\sklearn\\linear_model\\_coordinate_descent.py:530: ConvergenceWarning: Objective did not converge. You might want to increase the number of iterations. Duality gap: 1619.972719014181, tolerance: 344.2567796888789\n",
      "  model = cd_fast.enet_coordinate_descent(\n",
      "C:\\Users\\Krzysiek\\anaconda3\\lib\\site-packages\\sklearn\\linear_model\\_coordinate_descent.py:530: ConvergenceWarning: Objective did not converge. You might want to increase the number of iterations. Duality gap: 1801.6542146375923, tolerance: 353.8900763974535\n",
      "  model = cd_fast.enet_coordinate_descent(\n",
      "C:\\Users\\Krzysiek\\anaconda3\\lib\\site-packages\\sklearn\\linear_model\\_coordinate_descent.py:530: ConvergenceWarning: Objective did not converge. You might want to increase the number of iterations. Duality gap: 1799.547515071372, tolerance: 347.8563697637195\n",
      "  model = cd_fast.enet_coordinate_descent(\n",
      "C:\\Users\\Krzysiek\\anaconda3\\lib\\site-packages\\sklearn\\linear_model\\_coordinate_descent.py:530: ConvergenceWarning: Objective did not converge. You might want to increase the number of iterations. Duality gap: 1837.5325734270007, tolerance: 359.09079954052123\n",
      "  model = cd_fast.enet_coordinate_descent(\n",
      "C:\\Users\\Krzysiek\\anaconda3\\lib\\site-packages\\sklearn\\linear_model\\_coordinate_descent.py:530: ConvergenceWarning: Objective did not converge. You might want to increase the number of iterations. Duality gap: 1814.9023733364393, tolerance: 350.762449471431\n",
      "  model = cd_fast.enet_coordinate_descent(\n",
      "C:\\Users\\Krzysiek\\anaconda3\\lib\\site-packages\\sklearn\\linear_model\\_coordinate_descent.py:530: ConvergenceWarning: Objective did not converge. You might want to increase the number of iterations. Duality gap: 1661.1973897857267, tolerance: 344.2567796888789\n",
      "  model = cd_fast.enet_coordinate_descent(\n",
      "C:\\Users\\Krzysiek\\anaconda3\\lib\\site-packages\\sklearn\\linear_model\\_coordinate_descent.py:530: ConvergenceWarning: Objective did not converge. You might want to increase the number of iterations. Duality gap: 1858.8242170150004, tolerance: 353.8900763974535\n",
      "  model = cd_fast.enet_coordinate_descent(\n",
      "C:\\Users\\Krzysiek\\anaconda3\\lib\\site-packages\\sklearn\\linear_model\\_coordinate_descent.py:530: ConvergenceWarning: Objective did not converge. You might want to increase the number of iterations. Duality gap: 1849.311373163638, tolerance: 347.8563697637195\n",
      "  model = cd_fast.enet_coordinate_descent(\n",
      "C:\\Users\\Krzysiek\\anaconda3\\lib\\site-packages\\sklearn\\linear_model\\_coordinate_descent.py:530: ConvergenceWarning: Objective did not converge. You might want to increase the number of iterations. Duality gap: 1867.2865537189266, tolerance: 359.09079954052123\n",
      "  model = cd_fast.enet_coordinate_descent(\n",
      "C:\\Users\\Krzysiek\\anaconda3\\lib\\site-packages\\sklearn\\linear_model\\_coordinate_descent.py:530: ConvergenceWarning: Objective did not converge. You might want to increase the number of iterations. Duality gap: 678.9002208027623, tolerance: 350.762449471431\n",
      "  model = cd_fast.enet_coordinate_descent(\n",
      "C:\\Users\\Krzysiek\\anaconda3\\lib\\site-packages\\sklearn\\linear_model\\_coordinate_descent.py:530: ConvergenceWarning: Objective did not converge. You might want to increase the number of iterations. Duality gap: 609.6657080794976, tolerance: 344.2567796888789\n",
      "  model = cd_fast.enet_coordinate_descent(\n",
      "C:\\Users\\Krzysiek\\anaconda3\\lib\\site-packages\\sklearn\\linear_model\\_coordinate_descent.py:530: ConvergenceWarning: Objective did not converge. You might want to increase the number of iterations. Duality gap: 652.7454437878814, tolerance: 353.8900763974535\n",
      "  model = cd_fast.enet_coordinate_descent(\n",
      "C:\\Users\\Krzysiek\\anaconda3\\lib\\site-packages\\sklearn\\linear_model\\_coordinate_descent.py:530: ConvergenceWarning: Objective did not converge. You might want to increase the number of iterations. Duality gap: 590.7743717378203, tolerance: 347.8563697637195\n",
      "  model = cd_fast.enet_coordinate_descent(\n",
      "C:\\Users\\Krzysiek\\anaconda3\\lib\\site-packages\\sklearn\\linear_model\\_coordinate_descent.py:530: ConvergenceWarning: Objective did not converge. You might want to increase the number of iterations. Duality gap: 677.2655828026154, tolerance: 359.09079954052123\n",
      "  model = cd_fast.enet_coordinate_descent(\n",
      "C:\\Users\\Krzysiek\\anaconda3\\lib\\site-packages\\sklearn\\linear_model\\_coordinate_descent.py:530: ConvergenceWarning: Objective did not converge. You might want to increase the number of iterations. Duality gap: 3400.921489588607, tolerance: 350.762449471431\n",
      "  model = cd_fast.enet_coordinate_descent(\n",
      "C:\\Users\\Krzysiek\\anaconda3\\lib\\site-packages\\sklearn\\linear_model\\_coordinate_descent.py:530: ConvergenceWarning: Objective did not converge. You might want to increase the number of iterations. Duality gap: 3211.762624482194, tolerance: 344.2567796888789\n",
      "  model = cd_fast.enet_coordinate_descent(\n",
      "C:\\Users\\Krzysiek\\anaconda3\\lib\\site-packages\\sklearn\\linear_model\\_coordinate_descent.py:530: ConvergenceWarning: Objective did not converge. You might want to increase the number of iterations. Duality gap: 3420.6188149613145, tolerance: 353.8900763974535\n",
      "  model = cd_fast.enet_coordinate_descent(\n",
      "C:\\Users\\Krzysiek\\anaconda3\\lib\\site-packages\\sklearn\\linear_model\\_coordinate_descent.py:530: ConvergenceWarning: Objective did not converge. You might want to increase the number of iterations. Duality gap: 3427.2614373629413, tolerance: 347.8563697637195\n",
      "  model = cd_fast.enet_coordinate_descent(\n",
      "C:\\Users\\Krzysiek\\anaconda3\\lib\\site-packages\\sklearn\\linear_model\\_coordinate_descent.py:530: ConvergenceWarning: Objective did not converge. You might want to increase the number of iterations. Duality gap: 3457.0414416600083, tolerance: 359.09079954052123\n",
      "  model = cd_fast.enet_coordinate_descent(\n",
      "C:\\Users\\Krzysiek\\anaconda3\\lib\\site-packages\\sklearn\\linear_model\\_coordinate_descent.py:530: ConvergenceWarning: Objective did not converge. You might want to increase the number of iterations. Duality gap: 3155.9341402471387, tolerance: 350.762449471431\n",
      "  model = cd_fast.enet_coordinate_descent(\n",
      "C:\\Users\\Krzysiek\\anaconda3\\lib\\site-packages\\sklearn\\linear_model\\_coordinate_descent.py:530: ConvergenceWarning: Objective did not converge. You might want to increase the number of iterations. Duality gap: 3010.4387082195194, tolerance: 344.2567796888789\n",
      "  model = cd_fast.enet_coordinate_descent(\n",
      "C:\\Users\\Krzysiek\\anaconda3\\lib\\site-packages\\sklearn\\linear_model\\_coordinate_descent.py:530: ConvergenceWarning: Objective did not converge. You might want to increase the number of iterations. Duality gap: 3182.8956125049617, tolerance: 353.8900763974535\n",
      "  model = cd_fast.enet_coordinate_descent(\n",
      "C:\\Users\\Krzysiek\\anaconda3\\lib\\site-packages\\sklearn\\linear_model\\_coordinate_descent.py:530: ConvergenceWarning: Objective did not converge. You might want to increase the number of iterations. Duality gap: 3181.4046689285506, tolerance: 347.8563697637195\n",
      "  model = cd_fast.enet_coordinate_descent(\n",
      "C:\\Users\\Krzysiek\\anaconda3\\lib\\site-packages\\sklearn\\linear_model\\_coordinate_descent.py:530: ConvergenceWarning: Objective did not converge. You might want to increase the number of iterations. Duality gap: 3217.982216045013, tolerance: 359.09079954052123\n",
      "  model = cd_fast.enet_coordinate_descent(\n",
      "C:\\Users\\Krzysiek\\anaconda3\\lib\\site-packages\\sklearn\\linear_model\\_coordinate_descent.py:530: ConvergenceWarning: Objective did not converge. You might want to increase the number of iterations. Duality gap: 3187.316044977466, tolerance: 350.762449471431\n",
      "  model = cd_fast.enet_coordinate_descent(\n"
     ]
    },
    {
     "name": "stderr",
     "output_type": "stream",
     "text": [
      "C:\\Users\\Krzysiek\\anaconda3\\lib\\site-packages\\sklearn\\linear_model\\_coordinate_descent.py:530: ConvergenceWarning: Objective did not converge. You might want to increase the number of iterations. Duality gap: 3043.1321524035725, tolerance: 344.2567796888789\n",
      "  model = cd_fast.enet_coordinate_descent(\n",
      "C:\\Users\\Krzysiek\\anaconda3\\lib\\site-packages\\sklearn\\linear_model\\_coordinate_descent.py:530: ConvergenceWarning: Objective did not converge. You might want to increase the number of iterations. Duality gap: 3237.3963674648257, tolerance: 353.8900763974535\n",
      "  model = cd_fast.enet_coordinate_descent(\n",
      "C:\\Users\\Krzysiek\\anaconda3\\lib\\site-packages\\sklearn\\linear_model\\_coordinate_descent.py:530: ConvergenceWarning: Objective did not converge. You might want to increase the number of iterations. Duality gap: 3226.4187715162097, tolerance: 347.8563697637195\n",
      "  model = cd_fast.enet_coordinate_descent(\n",
      "C:\\Users\\Krzysiek\\anaconda3\\lib\\site-packages\\sklearn\\linear_model\\_coordinate_descent.py:530: ConvergenceWarning: Objective did not converge. You might want to increase the number of iterations. Duality gap: 3244.1309119018006, tolerance: 359.09079954052123\n",
      "  model = cd_fast.enet_coordinate_descent(\n",
      "C:\\Users\\Krzysiek\\anaconda3\\lib\\site-packages\\sklearn\\linear_model\\_coordinate_descent.py:530: ConvergenceWarning: Objective did not converge. You might want to increase the number of iterations. Duality gap: 965.0184496482198, tolerance: 350.762449471431\n",
      "  model = cd_fast.enet_coordinate_descent(\n",
      "C:\\Users\\Krzysiek\\anaconda3\\lib\\site-packages\\sklearn\\linear_model\\_coordinate_descent.py:530: ConvergenceWarning: Objective did not converge. You might want to increase the number of iterations. Duality gap: 861.7471489201248, tolerance: 344.2567796888789\n",
      "  model = cd_fast.enet_coordinate_descent(\n",
      "C:\\Users\\Krzysiek\\anaconda3\\lib\\site-packages\\sklearn\\linear_model\\_coordinate_descent.py:530: ConvergenceWarning: Objective did not converge. You might want to increase the number of iterations. Duality gap: 830.1930311923024, tolerance: 353.8900763974535\n",
      "  model = cd_fast.enet_coordinate_descent(\n",
      "C:\\Users\\Krzysiek\\anaconda3\\lib\\site-packages\\sklearn\\linear_model\\_coordinate_descent.py:530: ConvergenceWarning: Objective did not converge. You might want to increase the number of iterations. Duality gap: 916.8282685836566, tolerance: 347.8563697637195\n",
      "  model = cd_fast.enet_coordinate_descent(\n",
      "C:\\Users\\Krzysiek\\anaconda3\\lib\\site-packages\\sklearn\\linear_model\\_coordinate_descent.py:530: ConvergenceWarning: Objective did not converge. You might want to increase the number of iterations. Duality gap: 944.6881897374446, tolerance: 359.09079954052123\n",
      "  model = cd_fast.enet_coordinate_descent(\n",
      "C:\\Users\\Krzysiek\\anaconda3\\lib\\site-packages\\sklearn\\linear_model\\_coordinate_descent.py:530: ConvergenceWarning: Objective did not converge. You might want to increase the number of iterations. Duality gap: 14135.787140226417, tolerance: 350.762449471431\n",
      "  model = cd_fast.enet_coordinate_descent(\n",
      "C:\\Users\\Krzysiek\\anaconda3\\lib\\site-packages\\sklearn\\linear_model\\_coordinate_descent.py:530: ConvergenceWarning: Objective did not converge. You might want to increase the number of iterations. Duality gap: 14046.30857599239, tolerance: 344.2567796888789\n",
      "  model = cd_fast.enet_coordinate_descent(\n",
      "C:\\Users\\Krzysiek\\anaconda3\\lib\\site-packages\\sklearn\\linear_model\\_coordinate_descent.py:530: ConvergenceWarning: Objective did not converge. You might want to increase the number of iterations. Duality gap: 14257.121631355138, tolerance: 353.8900763974535\n",
      "  model = cd_fast.enet_coordinate_descent(\n",
      "C:\\Users\\Krzysiek\\anaconda3\\lib\\site-packages\\sklearn\\linear_model\\_coordinate_descent.py:530: ConvergenceWarning: Objective did not converge. You might want to increase the number of iterations. Duality gap: 14230.812473055978, tolerance: 347.8563697637195\n",
      "  model = cd_fast.enet_coordinate_descent(\n",
      "C:\\Users\\Krzysiek\\anaconda3\\lib\\site-packages\\sklearn\\linear_model\\_coordinate_descent.py:530: ConvergenceWarning: Objective did not converge. You might want to increase the number of iterations. Duality gap: 14272.88911372099, tolerance: 359.09079954052123\n",
      "  model = cd_fast.enet_coordinate_descent(\n",
      "C:\\Users\\Krzysiek\\anaconda3\\lib\\site-packages\\sklearn\\linear_model\\_coordinate_descent.py:530: ConvergenceWarning: Objective did not converge. You might want to increase the number of iterations. Duality gap: 14657.44608973211, tolerance: 350.762449471431\n",
      "  model = cd_fast.enet_coordinate_descent(\n",
      "C:\\Users\\Krzysiek\\anaconda3\\lib\\site-packages\\sklearn\\linear_model\\_coordinate_descent.py:530: ConvergenceWarning: Objective did not converge. You might want to increase the number of iterations. Duality gap: 14545.680647230969, tolerance: 344.2567796888789\n",
      "  model = cd_fast.enet_coordinate_descent(\n",
      "C:\\Users\\Krzysiek\\anaconda3\\lib\\site-packages\\sklearn\\linear_model\\_coordinate_descent.py:530: ConvergenceWarning: Objective did not converge. You might want to increase the number of iterations. Duality gap: 14682.089484926953, tolerance: 353.8900763974535\n",
      "  model = cd_fast.enet_coordinate_descent(\n",
      "C:\\Users\\Krzysiek\\anaconda3\\lib\\site-packages\\sklearn\\linear_model\\_coordinate_descent.py:530: ConvergenceWarning: Objective did not converge. You might want to increase the number of iterations. Duality gap: 14660.697755346455, tolerance: 347.8563697637195\n",
      "  model = cd_fast.enet_coordinate_descent(\n",
      "C:\\Users\\Krzysiek\\anaconda3\\lib\\site-packages\\sklearn\\linear_model\\_coordinate_descent.py:530: ConvergenceWarning: Objective did not converge. You might want to increase the number of iterations. Duality gap: 14687.31353437173, tolerance: 359.09079954052123\n",
      "  model = cd_fast.enet_coordinate_descent(\n",
      "C:\\Users\\Krzysiek\\anaconda3\\lib\\site-packages\\sklearn\\linear_model\\_coordinate_descent.py:530: ConvergenceWarning: Objective did not converge. You might want to increase the number of iterations. Duality gap: 13671.162344373266, tolerance: 350.762449471431\n",
      "  model = cd_fast.enet_coordinate_descent(\n",
      "C:\\Users\\Krzysiek\\anaconda3\\lib\\site-packages\\sklearn\\linear_model\\_coordinate_descent.py:530: ConvergenceWarning: Objective did not converge. You might want to increase the number of iterations. Duality gap: 13533.329328696334, tolerance: 344.2567796888789\n",
      "  model = cd_fast.enet_coordinate_descent(\n",
      "C:\\Users\\Krzysiek\\anaconda3\\lib\\site-packages\\sklearn\\linear_model\\_coordinate_descent.py:530: ConvergenceWarning: Objective did not converge. You might want to increase the number of iterations. Duality gap: 13770.083836747028, tolerance: 353.8900763974535\n",
      "  model = cd_fast.enet_coordinate_descent(\n",
      "C:\\Users\\Krzysiek\\anaconda3\\lib\\site-packages\\sklearn\\linear_model\\_coordinate_descent.py:530: ConvergenceWarning: Objective did not converge. You might want to increase the number of iterations. Duality gap: 13686.02575035176, tolerance: 347.8563697637195\n",
      "  model = cd_fast.enet_coordinate_descent(\n",
      "C:\\Users\\Krzysiek\\anaconda3\\lib\\site-packages\\sklearn\\linear_model\\_coordinate_descent.py:530: ConvergenceWarning: Objective did not converge. You might want to increase the number of iterations. Duality gap: 13770.989805109964, tolerance: 359.09079954052123\n",
      "  model = cd_fast.enet_coordinate_descent(\n",
      "C:\\Users\\Krzysiek\\anaconda3\\lib\\site-packages\\sklearn\\linear_model\\_coordinate_descent.py:530: ConvergenceWarning: Objective did not converge. You might want to increase the number of iterations. Duality gap: 2044.8264897357938, tolerance: 438.9881683133277\n",
      "  model = cd_fast.enet_coordinate_descent(\n"
     ]
    },
    {
     "data": {
      "text/plain": [
       "{'elasticnet__alpha': 0.01, 'polynomialfeatures__degree': 3}"
      ]
     },
     "execution_count": 282,
     "metadata": {},
     "output_type": "execute_result"
    }
   ],
   "source": [
    "#WYSZUKIWANIE OPTYMALNEGO STOPNIA WIELOMIANU METODĄ ELASTIC NET\n",
    "#ANALIZOWANE STOPNIE WIELOMIANU: OD 1 DO 4\n",
    "#ANALIZOWANY WSPÓŁCZYNNIK ALFA: 0.01, 0.1, 1, 10\n",
    "#ZWRACANIE OPTYMALNEGO STOPNIA WIELOMIANU\n",
    "\n",
    "grid_1 = GridSearchCV(make_pipeline(PolynomialFeatures(degree=2), ElasticNet(alpha=1, random_state=seed)),\n",
    "                    param_grid={'polynomialfeatures__degree': [1, 2, 3, 4],\n",
    "                    'elasticnet__alpha': [0.01, 0.1, 1, 10]},\n",
    "                    cv=kfold,\n",
    "                    refit=True)\n",
    "grid_1.fit(X_train, y_train)\n",
    "grid_1.best_params_"
   ]
  },
  {
   "cell_type": "code",
   "execution_count": 283,
   "id": "f73e3752",
   "metadata": {},
   "outputs": [
    {
     "name": "stderr",
     "output_type": "stream",
     "text": [
      "C:\\Users\\Krzysiek\\anaconda3\\lib\\site-packages\\sklearn\\linear_model\\_coordinate_descent.py:530: ConvergenceWarning: Objective did not converge. You might want to increase the number of iterations. Duality gap: 2215.826308803646, tolerance: 350.762449471431\n",
      "  model = cd_fast.enet_coordinate_descent(\n",
      "C:\\Users\\Krzysiek\\anaconda3\\lib\\site-packages\\sklearn\\linear_model\\_coordinate_descent.py:530: ConvergenceWarning: Objective did not converge. You might want to increase the number of iterations. Duality gap: 1963.7979619333105, tolerance: 344.2567796888789\n",
      "  model = cd_fast.enet_coordinate_descent(\n",
      "C:\\Users\\Krzysiek\\anaconda3\\lib\\site-packages\\sklearn\\linear_model\\_coordinate_descent.py:530: ConvergenceWarning: Objective did not converge. You might want to increase the number of iterations. Duality gap: 2132.2682693636702, tolerance: 353.8900763974535\n",
      "  model = cd_fast.enet_coordinate_descent(\n",
      "C:\\Users\\Krzysiek\\anaconda3\\lib\\site-packages\\sklearn\\linear_model\\_coordinate_descent.py:530: ConvergenceWarning: Objective did not converge. You might want to increase the number of iterations. Duality gap: 2125.6498105641303, tolerance: 347.8563697637195\n",
      "  model = cd_fast.enet_coordinate_descent(\n",
      "C:\\Users\\Krzysiek\\anaconda3\\lib\\site-packages\\sklearn\\linear_model\\_coordinate_descent.py:530: ConvergenceWarning: Objective did not converge. You might want to increase the number of iterations. Duality gap: 2212.138500947533, tolerance: 359.09079954052123\n",
      "  model = cd_fast.enet_coordinate_descent(\n",
      "C:\\Users\\Krzysiek\\anaconda3\\lib\\site-packages\\sklearn\\linear_model\\_coordinate_descent.py:530: ConvergenceWarning: Objective did not converge. You might want to increase the number of iterations. Duality gap: 1887.0319877777833, tolerance: 350.762449471431\n",
      "  model = cd_fast.enet_coordinate_descent(\n",
      "C:\\Users\\Krzysiek\\anaconda3\\lib\\site-packages\\sklearn\\linear_model\\_coordinate_descent.py:530: ConvergenceWarning: Objective did not converge. You might want to increase the number of iterations. Duality gap: 1696.778511540741, tolerance: 344.2567796888789\n",
      "  model = cd_fast.enet_coordinate_descent(\n",
      "C:\\Users\\Krzysiek\\anaconda3\\lib\\site-packages\\sklearn\\linear_model\\_coordinate_descent.py:530: ConvergenceWarning: Objective did not converge. You might want to increase the number of iterations. Duality gap: 1910.4899941193855, tolerance: 353.8900763974535\n",
      "  model = cd_fast.enet_coordinate_descent(\n",
      "C:\\Users\\Krzysiek\\anaconda3\\lib\\site-packages\\sklearn\\linear_model\\_coordinate_descent.py:530: ConvergenceWarning: Objective did not converge. You might want to increase the number of iterations. Duality gap: 1917.462120696691, tolerance: 347.8563697637195\n",
      "  model = cd_fast.enet_coordinate_descent(\n",
      "C:\\Users\\Krzysiek\\anaconda3\\lib\\site-packages\\sklearn\\linear_model\\_coordinate_descent.py:530: ConvergenceWarning: Objective did not converge. You might want to increase the number of iterations. Duality gap: 1948.0772308553992, tolerance: 359.09079954052123\n",
      "  model = cd_fast.enet_coordinate_descent(\n",
      "C:\\Users\\Krzysiek\\anaconda3\\lib\\site-packages\\sklearn\\linear_model\\_coordinate_descent.py:530: ConvergenceWarning: Objective did not converge. You might want to increase the number of iterations. Duality gap: 1650.0259302070472, tolerance: 350.762449471431\n",
      "  model = cd_fast.enet_coordinate_descent(\n",
      "C:\\Users\\Krzysiek\\anaconda3\\lib\\site-packages\\sklearn\\linear_model\\_coordinate_descent.py:530: ConvergenceWarning: Objective did not converge. You might want to increase the number of iterations. Duality gap: 1492.23362209337, tolerance: 344.2567796888789\n",
      "  model = cd_fast.enet_coordinate_descent(\n",
      "C:\\Users\\Krzysiek\\anaconda3\\lib\\site-packages\\sklearn\\linear_model\\_coordinate_descent.py:530: ConvergenceWarning: Objective did not converge. You might want to increase the number of iterations. Duality gap: 1675.0438651461097, tolerance: 353.8900763974535\n",
      "  model = cd_fast.enet_coordinate_descent(\n",
      "C:\\Users\\Krzysiek\\anaconda3\\lib\\site-packages\\sklearn\\linear_model\\_coordinate_descent.py:530: ConvergenceWarning: Objective did not converge. You might want to increase the number of iterations. Duality gap: 1672.7216625965134, tolerance: 347.8563697637195\n",
      "  model = cd_fast.enet_coordinate_descent(\n",
      "C:\\Users\\Krzysiek\\anaconda3\\lib\\site-packages\\sklearn\\linear_model\\_coordinate_descent.py:530: ConvergenceWarning: Objective did not converge. You might want to increase the number of iterations. Duality gap: 1710.9147604157886, tolerance: 359.09079954052123\n",
      "  model = cd_fast.enet_coordinate_descent(\n",
      "C:\\Users\\Krzysiek\\anaconda3\\lib\\site-packages\\sklearn\\linear_model\\_coordinate_descent.py:530: ConvergenceWarning: Objective did not converge. You might want to increase the number of iterations. Duality gap: 1686.5285554034008, tolerance: 350.762449471431\n",
      "  model = cd_fast.enet_coordinate_descent(\n",
      "C:\\Users\\Krzysiek\\anaconda3\\lib\\site-packages\\sklearn\\linear_model\\_coordinate_descent.py:530: ConvergenceWarning: Objective did not converge. You might want to increase the number of iterations. Duality gap: 1531.3579396446435, tolerance: 344.2567796888789\n",
      "  model = cd_fast.enet_coordinate_descent(\n",
      "C:\\Users\\Krzysiek\\anaconda3\\lib\\site-packages\\sklearn\\linear_model\\_coordinate_descent.py:530: ConvergenceWarning: Objective did not converge. You might want to increase the number of iterations. Duality gap: 1729.5841928356115, tolerance: 353.8900763974535\n",
      "  model = cd_fast.enet_coordinate_descent(\n",
      "C:\\Users\\Krzysiek\\anaconda3\\lib\\site-packages\\sklearn\\linear_model\\_coordinate_descent.py:530: ConvergenceWarning: Objective did not converge. You might want to increase the number of iterations. Duality gap: 1719.9979678138475, tolerance: 347.8563697637195\n",
      "  model = cd_fast.enet_coordinate_descent(\n",
      "C:\\Users\\Krzysiek\\anaconda3\\lib\\site-packages\\sklearn\\linear_model\\_coordinate_descent.py:530: ConvergenceWarning: Objective did not converge. You might want to increase the number of iterations. Duality gap: 1738.0300031015956, tolerance: 359.09079954052123\n",
      "  model = cd_fast.enet_coordinate_descent(\n",
      "C:\\Users\\Krzysiek\\anaconda3\\lib\\site-packages\\sklearn\\linear_model\\_coordinate_descent.py:530: ConvergenceWarning: Objective did not converge. You might want to increase the number of iterations. Duality gap: 2176.7836724344515, tolerance: 350.762449471431\n",
      "  model = cd_fast.enet_coordinate_descent(\n",
      "C:\\Users\\Krzysiek\\anaconda3\\lib\\site-packages\\sklearn\\linear_model\\_coordinate_descent.py:530: ConvergenceWarning: Objective did not converge. You might want to increase the number of iterations. Duality gap: 1966.5474746733626, tolerance: 344.2567796888789\n",
      "  model = cd_fast.enet_coordinate_descent(\n",
      "C:\\Users\\Krzysiek\\anaconda3\\lib\\site-packages\\sklearn\\linear_model\\_coordinate_descent.py:530: ConvergenceWarning: Objective did not converge. You might want to increase the number of iterations. Duality gap: 2120.6972921851257, tolerance: 353.8900763974535\n",
      "  model = cd_fast.enet_coordinate_descent(\n",
      "C:\\Users\\Krzysiek\\anaconda3\\lib\\site-packages\\sklearn\\linear_model\\_coordinate_descent.py:530: ConvergenceWarning: Objective did not converge. You might want to increase the number of iterations. Duality gap: 2080.1365625904027, tolerance: 347.8563697637195\n",
      "  model = cd_fast.enet_coordinate_descent(\n",
      "C:\\Users\\Krzysiek\\anaconda3\\lib\\site-packages\\sklearn\\linear_model\\_coordinate_descent.py:530: ConvergenceWarning: Objective did not converge. You might want to increase the number of iterations. Duality gap: 2173.8103143945254, tolerance: 359.09079954052123\n",
      "  model = cd_fast.enet_coordinate_descent(\n",
      "C:\\Users\\Krzysiek\\anaconda3\\lib\\site-packages\\sklearn\\linear_model\\_coordinate_descent.py:530: ConvergenceWarning: Objective did not converge. You might want to increase the number of iterations. Duality gap: 2150.9281516081237, tolerance: 350.762449471431\n",
      "  model = cd_fast.enet_coordinate_descent(\n",
      "C:\\Users\\Krzysiek\\anaconda3\\lib\\site-packages\\sklearn\\linear_model\\_coordinate_descent.py:530: ConvergenceWarning: Objective did not converge. You might want to increase the number of iterations. Duality gap: 1960.4944248435959, tolerance: 344.2567796888789\n",
      "  model = cd_fast.enet_coordinate_descent(\n",
      "C:\\Users\\Krzysiek\\anaconda3\\lib\\site-packages\\sklearn\\linear_model\\_coordinate_descent.py:530: ConvergenceWarning: Objective did not converge. You might want to increase the number of iterations. Duality gap: 2173.711922695681, tolerance: 353.8900763974535\n",
      "  model = cd_fast.enet_coordinate_descent(\n"
     ]
    },
    {
     "name": "stderr",
     "output_type": "stream",
     "text": [
      "C:\\Users\\Krzysiek\\anaconda3\\lib\\site-packages\\sklearn\\linear_model\\_coordinate_descent.py:530: ConvergenceWarning: Objective did not converge. You might want to increase the number of iterations. Duality gap: 2180.322905395923, tolerance: 347.8563697637195\n",
      "  model = cd_fast.enet_coordinate_descent(\n",
      "C:\\Users\\Krzysiek\\anaconda3\\lib\\site-packages\\sklearn\\linear_model\\_coordinate_descent.py:530: ConvergenceWarning: Objective did not converge. You might want to increase the number of iterations. Duality gap: 2210.892817096603, tolerance: 359.09079954052123\n",
      "  model = cd_fast.enet_coordinate_descent(\n",
      "C:\\Users\\Krzysiek\\anaconda3\\lib\\site-packages\\sklearn\\linear_model\\_coordinate_descent.py:530: ConvergenceWarning: Objective did not converge. You might want to increase the number of iterations. Duality gap: 1918.9641627634755, tolerance: 350.762449471431\n",
      "  model = cd_fast.enet_coordinate_descent(\n",
      "C:\\Users\\Krzysiek\\anaconda3\\lib\\site-packages\\sklearn\\linear_model\\_coordinate_descent.py:530: ConvergenceWarning: Objective did not converge. You might want to increase the number of iterations. Duality gap: 1763.1485545760306, tolerance: 344.2567796888789\n",
      "  model = cd_fast.enet_coordinate_descent(\n",
      "C:\\Users\\Krzysiek\\anaconda3\\lib\\site-packages\\sklearn\\linear_model\\_coordinate_descent.py:530: ConvergenceWarning: Objective did not converge. You might want to increase the number of iterations. Duality gap: 1944.5236864768601, tolerance: 353.8900763974535\n",
      "  model = cd_fast.enet_coordinate_descent(\n",
      "C:\\Users\\Krzysiek\\anaconda3\\lib\\site-packages\\sklearn\\linear_model\\_coordinate_descent.py:530: ConvergenceWarning: Objective did not converge. You might want to increase the number of iterations. Duality gap: 1941.7490345370124, tolerance: 347.8563697637195\n",
      "  model = cd_fast.enet_coordinate_descent(\n",
      "C:\\Users\\Krzysiek\\anaconda3\\lib\\site-packages\\sklearn\\linear_model\\_coordinate_descent.py:530: ConvergenceWarning: Objective did not converge. You might want to increase the number of iterations. Duality gap: 1980.0316622228693, tolerance: 359.09079954052123\n",
      "  model = cd_fast.enet_coordinate_descent(\n",
      "C:\\Users\\Krzysiek\\anaconda3\\lib\\site-packages\\sklearn\\linear_model\\_coordinate_descent.py:530: ConvergenceWarning: Objective did not converge. You might want to increase the number of iterations. Duality gap: 1955.1305995110913, tolerance: 350.762449471431\n",
      "  model = cd_fast.enet_coordinate_descent(\n",
      "C:\\Users\\Krzysiek\\anaconda3\\lib\\site-packages\\sklearn\\linear_model\\_coordinate_descent.py:530: ConvergenceWarning: Objective did not converge. You might want to increase the number of iterations. Duality gap: 1801.143442526969, tolerance: 344.2567796888789\n",
      "  model = cd_fast.enet_coordinate_descent(\n",
      "C:\\Users\\Krzysiek\\anaconda3\\lib\\site-packages\\sklearn\\linear_model\\_coordinate_descent.py:530: ConvergenceWarning: Objective did not converge. You might want to increase the number of iterations. Duality gap: 1999.139558024162, tolerance: 353.8900763974535\n",
      "  model = cd_fast.enet_coordinate_descent(\n",
      "C:\\Users\\Krzysiek\\anaconda3\\lib\\site-packages\\sklearn\\linear_model\\_coordinate_descent.py:530: ConvergenceWarning: Objective did not converge. You might want to increase the number of iterations. Duality gap: 1989.00388428703, tolerance: 347.8563697637195\n",
      "  model = cd_fast.enet_coordinate_descent(\n",
      "C:\\Users\\Krzysiek\\anaconda3\\lib\\site-packages\\sklearn\\linear_model\\_coordinate_descent.py:530: ConvergenceWarning: Objective did not converge. You might want to increase the number of iterations. Duality gap: 2007.0886111105676, tolerance: 359.09079954052123\n",
      "  model = cd_fast.enet_coordinate_descent(\n",
      "C:\\Users\\Krzysiek\\anaconda3\\lib\\site-packages\\sklearn\\linear_model\\_coordinate_descent.py:530: ConvergenceWarning: Objective did not converge. You might want to increase the number of iterations. Duality gap: 755.062051352063, tolerance: 350.762449471431\n",
      "  model = cd_fast.enet_coordinate_descent(\n",
      "C:\\Users\\Krzysiek\\anaconda3\\lib\\site-packages\\sklearn\\linear_model\\_coordinate_descent.py:530: ConvergenceWarning: Objective did not converge. You might want to increase the number of iterations. Duality gap: 701.0244320388547, tolerance: 344.2567796888789\n",
      "  model = cd_fast.enet_coordinate_descent(\n",
      "C:\\Users\\Krzysiek\\anaconda3\\lib\\site-packages\\sklearn\\linear_model\\_coordinate_descent.py:530: ConvergenceWarning: Objective did not converge. You might want to increase the number of iterations. Duality gap: 721.6603335091581, tolerance: 353.8900763974535\n",
      "  model = cd_fast.enet_coordinate_descent(\n",
      "C:\\Users\\Krzysiek\\anaconda3\\lib\\site-packages\\sklearn\\linear_model\\_coordinate_descent.py:530: ConvergenceWarning: Objective did not converge. You might want to increase the number of iterations. Duality gap: 679.2665637305081, tolerance: 347.8563697637195\n",
      "  model = cd_fast.enet_coordinate_descent(\n",
      "C:\\Users\\Krzysiek\\anaconda3\\lib\\site-packages\\sklearn\\linear_model\\_coordinate_descent.py:530: ConvergenceWarning: Objective did not converge. You might want to increase the number of iterations. Duality gap: 767.019335288026, tolerance: 359.09079954052123\n",
      "  model = cd_fast.enet_coordinate_descent(\n",
      "C:\\Users\\Krzysiek\\anaconda3\\lib\\site-packages\\sklearn\\linear_model\\_coordinate_descent.py:530: ConvergenceWarning: Objective did not converge. You might want to increase the number of iterations. Duality gap: 4711.564071911216, tolerance: 350.762449471431\n",
      "  model = cd_fast.enet_coordinate_descent(\n",
      "C:\\Users\\Krzysiek\\anaconda3\\lib\\site-packages\\sklearn\\linear_model\\_coordinate_descent.py:530: ConvergenceWarning: Objective did not converge. You might want to increase the number of iterations. Duality gap: 4512.59800297478, tolerance: 344.2567796888789\n",
      "  model = cd_fast.enet_coordinate_descent(\n",
      "C:\\Users\\Krzysiek\\anaconda3\\lib\\site-packages\\sklearn\\linear_model\\_coordinate_descent.py:530: ConvergenceWarning: Objective did not converge. You might want to increase the number of iterations. Duality gap: 4723.8300903421095, tolerance: 353.8900763974535\n",
      "  model = cd_fast.enet_coordinate_descent(\n",
      "C:\\Users\\Krzysiek\\anaconda3\\lib\\site-packages\\sklearn\\linear_model\\_coordinate_descent.py:530: ConvergenceWarning: Objective did not converge. You might want to increase the number of iterations. Duality gap: 4728.226053510848, tolerance: 347.8563697637195\n",
      "  model = cd_fast.enet_coordinate_descent(\n",
      "C:\\Users\\Krzysiek\\anaconda3\\lib\\site-packages\\sklearn\\linear_model\\_coordinate_descent.py:530: ConvergenceWarning: Objective did not converge. You might want to increase the number of iterations. Duality gap: 4755.186784186246, tolerance: 359.09079954052123\n",
      "  model = cd_fast.enet_coordinate_descent(\n",
      "C:\\Users\\Krzysiek\\anaconda3\\lib\\site-packages\\sklearn\\linear_model\\_coordinate_descent.py:530: ConvergenceWarning: Objective did not converge. You might want to increase the number of iterations. Duality gap: 4517.711256510191, tolerance: 350.762449471431\n",
      "  model = cd_fast.enet_coordinate_descent(\n",
      "C:\\Users\\Krzysiek\\anaconda3\\lib\\site-packages\\sklearn\\linear_model\\_coordinate_descent.py:530: ConvergenceWarning: Objective did not converge. You might want to increase the number of iterations. Duality gap: 4379.6449108197785, tolerance: 344.2567796888789\n",
      "  model = cd_fast.enet_coordinate_descent(\n",
      "C:\\Users\\Krzysiek\\anaconda3\\lib\\site-packages\\sklearn\\linear_model\\_coordinate_descent.py:530: ConvergenceWarning: Objective did not converge. You might want to increase the number of iterations. Duality gap: 4547.731017716921, tolerance: 353.8900763974535\n",
      "  model = cd_fast.enet_coordinate_descent(\n",
      "C:\\Users\\Krzysiek\\anaconda3\\lib\\site-packages\\sklearn\\linear_model\\_coordinate_descent.py:530: ConvergenceWarning: Objective did not converge. You might want to increase the number of iterations. Duality gap: 4539.9168763394355, tolerance: 347.8563697637195\n",
      "  model = cd_fast.enet_coordinate_descent(\n",
      "C:\\Users\\Krzysiek\\anaconda3\\lib\\site-packages\\sklearn\\linear_model\\_coordinate_descent.py:530: ConvergenceWarning: Objective did not converge. You might want to increase the number of iterations. Duality gap: 4579.814775571947, tolerance: 359.09079954052123\n",
      "  model = cd_fast.enet_coordinate_descent(\n",
      "C:\\Users\\Krzysiek\\anaconda3\\lib\\site-packages\\sklearn\\linear_model\\_coordinate_descent.py:530: ConvergenceWarning: Objective did not converge. You might want to increase the number of iterations. Duality gap: 4520.52936613265, tolerance: 350.762449471431\n",
      "  model = cd_fast.enet_coordinate_descent(\n"
     ]
    },
    {
     "name": "stderr",
     "output_type": "stream",
     "text": [
      "C:\\Users\\Krzysiek\\anaconda3\\lib\\site-packages\\sklearn\\linear_model\\_coordinate_descent.py:530: ConvergenceWarning: Objective did not converge. You might want to increase the number of iterations. Duality gap: 4376.744743172783, tolerance: 344.2567796888789\n",
      "  model = cd_fast.enet_coordinate_descent(\n",
      "C:\\Users\\Krzysiek\\anaconda3\\lib\\site-packages\\sklearn\\linear_model\\_coordinate_descent.py:530: ConvergenceWarning: Objective did not converge. You might want to increase the number of iterations. Duality gap: 4573.819190550415, tolerance: 353.8900763974535\n",
      "  model = cd_fast.enet_coordinate_descent(\n",
      "C:\\Users\\Krzysiek\\anaconda3\\lib\\site-packages\\sklearn\\linear_model\\_coordinate_descent.py:530: ConvergenceWarning: Objective did not converge. You might want to increase the number of iterations. Duality gap: 4557.731755809005, tolerance: 347.8563697637195\n",
      "  model = cd_fast.enet_coordinate_descent(\n",
      "C:\\Users\\Krzysiek\\anaconda3\\lib\\site-packages\\sklearn\\linear_model\\_coordinate_descent.py:530: ConvergenceWarning: Objective did not converge. You might want to increase the number of iterations. Duality gap: 4579.10404808895, tolerance: 359.09079954052123\n",
      "  model = cd_fast.enet_coordinate_descent(\n",
      "C:\\Users\\Krzysiek\\anaconda3\\lib\\site-packages\\sklearn\\linear_model\\_coordinate_descent.py:530: ConvergenceWarning: Objective did not converge. You might want to increase the number of iterations. Duality gap: 742.798360273558, tolerance: 350.762449471431\n",
      "  model = cd_fast.enet_coordinate_descent(\n",
      "C:\\Users\\Krzysiek\\anaconda3\\lib\\site-packages\\sklearn\\linear_model\\_coordinate_descent.py:530: ConvergenceWarning: Objective did not converge. You might want to increase the number of iterations. Duality gap: 690.0960138228238, tolerance: 344.2567796888789\n",
      "  model = cd_fast.enet_coordinate_descent(\n",
      "C:\\Users\\Krzysiek\\anaconda3\\lib\\site-packages\\sklearn\\linear_model\\_coordinate_descent.py:530: ConvergenceWarning: Objective did not converge. You might want to increase the number of iterations. Duality gap: 709.9415015903551, tolerance: 353.8900763974535\n",
      "  model = cd_fast.enet_coordinate_descent(\n",
      "C:\\Users\\Krzysiek\\anaconda3\\lib\\site-packages\\sklearn\\linear_model\\_coordinate_descent.py:530: ConvergenceWarning: Objective did not converge. You might want to increase the number of iterations. Duality gap: 668.7635124698741, tolerance: 347.8563697637195\n",
      "  model = cd_fast.enet_coordinate_descent(\n",
      "C:\\Users\\Krzysiek\\anaconda3\\lib\\site-packages\\sklearn\\linear_model\\_coordinate_descent.py:530: ConvergenceWarning: Objective did not converge. You might want to increase the number of iterations. Duality gap: 755.2652989615394, tolerance: 359.09079954052123\n",
      "  model = cd_fast.enet_coordinate_descent(\n",
      "C:\\Users\\Krzysiek\\anaconda3\\lib\\site-packages\\sklearn\\linear_model\\_coordinate_descent.py:530: ConvergenceWarning: Objective did not converge. You might want to increase the number of iterations. Duality gap: 23069.888883122356, tolerance: 350.762449471431\n",
      "  model = cd_fast.enet_coordinate_descent(\n",
      "C:\\Users\\Krzysiek\\anaconda3\\lib\\site-packages\\sklearn\\linear_model\\_coordinate_descent.py:530: ConvergenceWarning: Objective did not converge. You might want to increase the number of iterations. Duality gap: 22131.1117546359, tolerance: 344.2567796888789\n",
      "  model = cd_fast.enet_coordinate_descent(\n",
      "C:\\Users\\Krzysiek\\anaconda3\\lib\\site-packages\\sklearn\\linear_model\\_coordinate_descent.py:530: ConvergenceWarning: Objective did not converge. You might want to increase the number of iterations. Duality gap: 22850.404802650784, tolerance: 353.8900763974535\n",
      "  model = cd_fast.enet_coordinate_descent(\n",
      "C:\\Users\\Krzysiek\\anaconda3\\lib\\site-packages\\sklearn\\linear_model\\_coordinate_descent.py:530: ConvergenceWarning: Objective did not converge. You might want to increase the number of iterations. Duality gap: 22708.888449219758, tolerance: 347.8563697637195\n",
      "  model = cd_fast.enet_coordinate_descent(\n",
      "C:\\Users\\Krzysiek\\anaconda3\\lib\\site-packages\\sklearn\\linear_model\\_coordinate_descent.py:530: ConvergenceWarning: Objective did not converge. You might want to increase the number of iterations. Duality gap: 22303.227480340403, tolerance: 359.09079954052123\n",
      "  model = cd_fast.enet_coordinate_descent(\n",
      "C:\\Users\\Krzysiek\\anaconda3\\lib\\site-packages\\sklearn\\linear_model\\_coordinate_descent.py:530: ConvergenceWarning: Objective did not converge. You might want to increase the number of iterations. Duality gap: 22600.851653974547, tolerance: 350.762449471431\n",
      "  model = cd_fast.enet_coordinate_descent(\n",
      "C:\\Users\\Krzysiek\\anaconda3\\lib\\site-packages\\sklearn\\linear_model\\_coordinate_descent.py:530: ConvergenceWarning: Objective did not converge. You might want to increase the number of iterations. Duality gap: 22429.807969971604, tolerance: 344.2567796888789\n",
      "  model = cd_fast.enet_coordinate_descent(\n",
      "C:\\Users\\Krzysiek\\anaconda3\\lib\\site-packages\\sklearn\\linear_model\\_coordinate_descent.py:530: ConvergenceWarning: Objective did not converge. You might want to increase the number of iterations. Duality gap: 22614.769560697692, tolerance: 353.8900763974535\n",
      "  model = cd_fast.enet_coordinate_descent(\n",
      "C:\\Users\\Krzysiek\\anaconda3\\lib\\site-packages\\sklearn\\linear_model\\_coordinate_descent.py:530: ConvergenceWarning: Objective did not converge. You might want to increase the number of iterations. Duality gap: 22565.044812505355, tolerance: 347.8563697637195\n",
      "  model = cd_fast.enet_coordinate_descent(\n",
      "C:\\Users\\Krzysiek\\anaconda3\\lib\\site-packages\\sklearn\\linear_model\\_coordinate_descent.py:530: ConvergenceWarning: Objective did not converge. You might want to increase the number of iterations. Duality gap: 22601.8900716441, tolerance: 359.09079954052123\n",
      "  model = cd_fast.enet_coordinate_descent(\n",
      "C:\\Users\\Krzysiek\\anaconda3\\lib\\site-packages\\sklearn\\linear_model\\_coordinate_descent.py:530: ConvergenceWarning: Objective did not converge. You might want to increase the number of iterations. Duality gap: 19042.788765376856, tolerance: 350.762449471431\n",
      "  model = cd_fast.enet_coordinate_descent(\n",
      "C:\\Users\\Krzysiek\\anaconda3\\lib\\site-packages\\sklearn\\linear_model\\_coordinate_descent.py:530: ConvergenceWarning: Objective did not converge. You might want to increase the number of iterations. Duality gap: 18815.041986955217, tolerance: 344.2567796888789\n",
      "  model = cd_fast.enet_coordinate_descent(\n",
      "C:\\Users\\Krzysiek\\anaconda3\\lib\\site-packages\\sklearn\\linear_model\\_coordinate_descent.py:530: ConvergenceWarning: Objective did not converge. You might want to increase the number of iterations. Duality gap: 19224.704307929624, tolerance: 353.8900763974535\n",
      "  model = cd_fast.enet_coordinate_descent(\n",
      "C:\\Users\\Krzysiek\\anaconda3\\lib\\site-packages\\sklearn\\linear_model\\_coordinate_descent.py:530: ConvergenceWarning: Objective did not converge. You might want to increase the number of iterations. Duality gap: 18982.3235935486, tolerance: 347.8563697637195\n",
      "  model = cd_fast.enet_coordinate_descent(\n",
      "C:\\Users\\Krzysiek\\anaconda3\\lib\\site-packages\\sklearn\\linear_model\\_coordinate_descent.py:530: ConvergenceWarning: Objective did not converge. You might want to increase the number of iterations. Duality gap: 19256.971180737328, tolerance: 359.09079954052123\n",
      "  model = cd_fast.enet_coordinate_descent(\n",
      "C:\\Users\\Krzysiek\\anaconda3\\lib\\site-packages\\sklearn\\linear_model\\_coordinate_descent.py:530: ConvergenceWarning: Objective did not converge. You might want to increase the number of iterations. Duality gap: 907.024258403711, tolerance: 438.9881683133277\n",
      "  model = cd_fast.enet_coordinate_descent(\n"
     ]
    },
    {
     "data": {
      "text/plain": [
       "{'lasso__alpha': 1, 'polynomialfeatures__degree': 1}"
      ]
     },
     "execution_count": 283,
     "metadata": {},
     "output_type": "execute_result"
    }
   ],
   "source": [
    "#WYSZUKIWANIE OPTYMALNEGO STOPNIA WIELOMIANU METODĄ LASSO\n",
    "#ANALIZOWANE STOPNIE WIELOMIANU: OD 1 DO 4\n",
    "#ANALIZOWANY WSPÓŁCZYNNIK ALFA: 0.01, 0.1, 1, 10\n",
    "#ZWRACANIE OPTYMALNEGO STOPNIA WIELOMIANU\n",
    "\n",
    "grid_2 = GridSearchCV(make_pipeline(PolynomialFeatures(degree=2), Lasso(alpha=1, random_state=seed)),\n",
    "                    param_grid={'polynomialfeatures__degree': [1, 2, 3, 4],\n",
    "                    'lasso__alpha': [0.01, 0.1, 1, 10]},\n",
    "                    cv=kfold,\n",
    "                    refit=True)\n",
    "grid_2.fit(X_train, y_train)\n",
    "grid_2.best_params_"
   ]
  },
  {
   "cell_type": "code",
   "execution_count": 284,
   "id": "7e7a8c8d",
   "metadata": {},
   "outputs": [
    {
     "name": "stderr",
     "output_type": "stream",
     "text": [
      "C:\\Users\\Krzysiek\\anaconda3\\lib\\site-packages\\sklearn\\linear_model\\_ridge.py:147: LinAlgWarning: Ill-conditioned matrix (rcond=6.43443e-19): result may not be accurate.\n",
      "  return linalg.solve(A, Xy, sym_pos=True,\n",
      "C:\\Users\\Krzysiek\\anaconda3\\lib\\site-packages\\sklearn\\linear_model\\_ridge.py:147: LinAlgWarning: Ill-conditioned matrix (rcond=5.63367e-19): result may not be accurate.\n",
      "  return linalg.solve(A, Xy, sym_pos=True,\n",
      "C:\\Users\\Krzysiek\\anaconda3\\lib\\site-packages\\sklearn\\linear_model\\_ridge.py:147: LinAlgWarning: Ill-conditioned matrix (rcond=6.5932e-19): result may not be accurate.\n",
      "  return linalg.solve(A, Xy, sym_pos=True,\n",
      "C:\\Users\\Krzysiek\\anaconda3\\lib\\site-packages\\sklearn\\linear_model\\_ridge.py:147: LinAlgWarning: Ill-conditioned matrix (rcond=4.23827e-19): result may not be accurate.\n",
      "  return linalg.solve(A, Xy, sym_pos=True,\n",
      "C:\\Users\\Krzysiek\\anaconda3\\lib\\site-packages\\sklearn\\linear_model\\_ridge.py:147: LinAlgWarning: Ill-conditioned matrix (rcond=4.84759e-19): result may not be accurate.\n",
      "  return linalg.solve(A, Xy, sym_pos=True,\n",
      "C:\\Users\\Krzysiek\\anaconda3\\lib\\site-packages\\sklearn\\linear_model\\_ridge.py:190: UserWarning: Singular matrix in solving dual problem. Using least-squares solution instead.\n",
      "  warnings.warn(\"Singular matrix in solving dual problem. Using \"\n",
      "C:\\Users\\Krzysiek\\anaconda3\\lib\\site-packages\\sklearn\\linear_model\\_ridge.py:190: UserWarning: Singular matrix in solving dual problem. Using least-squares solution instead.\n",
      "  warnings.warn(\"Singular matrix in solving dual problem. Using \"\n",
      "C:\\Users\\Krzysiek\\anaconda3\\lib\\site-packages\\sklearn\\linear_model\\_ridge.py:190: UserWarning: Singular matrix in solving dual problem. Using least-squares solution instead.\n",
      "  warnings.warn(\"Singular matrix in solving dual problem. Using \"\n",
      "C:\\Users\\Krzysiek\\anaconda3\\lib\\site-packages\\sklearn\\linear_model\\_ridge.py:190: UserWarning: Singular matrix in solving dual problem. Using least-squares solution instead.\n",
      "  warnings.warn(\"Singular matrix in solving dual problem. Using \"\n",
      "C:\\Users\\Krzysiek\\anaconda3\\lib\\site-packages\\sklearn\\linear_model\\_ridge.py:190: UserWarning: Singular matrix in solving dual problem. Using least-squares solution instead.\n",
      "  warnings.warn(\"Singular matrix in solving dual problem. Using \"\n",
      "C:\\Users\\Krzysiek\\anaconda3\\lib\\site-packages\\sklearn\\linear_model\\_ridge.py:190: UserWarning: Singular matrix in solving dual problem. Using least-squares solution instead.\n",
      "  warnings.warn(\"Singular matrix in solving dual problem. Using \"\n",
      "C:\\Users\\Krzysiek\\anaconda3\\lib\\site-packages\\sklearn\\linear_model\\_ridge.py:190: UserWarning: Singular matrix in solving dual problem. Using least-squares solution instead.\n",
      "  warnings.warn(\"Singular matrix in solving dual problem. Using \"\n",
      "C:\\Users\\Krzysiek\\anaconda3\\lib\\site-packages\\sklearn\\linear_model\\_ridge.py:190: UserWarning: Singular matrix in solving dual problem. Using least-squares solution instead.\n",
      "  warnings.warn(\"Singular matrix in solving dual problem. Using \"\n",
      "C:\\Users\\Krzysiek\\anaconda3\\lib\\site-packages\\sklearn\\linear_model\\_ridge.py:190: UserWarning: Singular matrix in solving dual problem. Using least-squares solution instead.\n",
      "  warnings.warn(\"Singular matrix in solving dual problem. Using \"\n",
      "C:\\Users\\Krzysiek\\anaconda3\\lib\\site-packages\\sklearn\\linear_model\\_ridge.py:190: UserWarning: Singular matrix in solving dual problem. Using least-squares solution instead.\n",
      "  warnings.warn(\"Singular matrix in solving dual problem. Using \"\n",
      "C:\\Users\\Krzysiek\\anaconda3\\lib\\site-packages\\sklearn\\linear_model\\_ridge.py:190: UserWarning: Singular matrix in solving dual problem. Using least-squares solution instead.\n",
      "  warnings.warn(\"Singular matrix in solving dual problem. Using \"\n",
      "C:\\Users\\Krzysiek\\anaconda3\\lib\\site-packages\\sklearn\\linear_model\\_ridge.py:190: UserWarning: Singular matrix in solving dual problem. Using least-squares solution instead.\n",
      "  warnings.warn(\"Singular matrix in solving dual problem. Using \"\n",
      "C:\\Users\\Krzysiek\\anaconda3\\lib\\site-packages\\sklearn\\linear_model\\_ridge.py:190: UserWarning: Singular matrix in solving dual problem. Using least-squares solution instead.\n",
      "  warnings.warn(\"Singular matrix in solving dual problem. Using \"\n",
      "C:\\Users\\Krzysiek\\anaconda3\\lib\\site-packages\\sklearn\\linear_model\\_ridge.py:190: UserWarning: Singular matrix in solving dual problem. Using least-squares solution instead.\n",
      "  warnings.warn(\"Singular matrix in solving dual problem. Using \"\n",
      "C:\\Users\\Krzysiek\\anaconda3\\lib\\site-packages\\sklearn\\linear_model\\_ridge.py:190: UserWarning: Singular matrix in solving dual problem. Using least-squares solution instead.\n",
      "  warnings.warn(\"Singular matrix in solving dual problem. Using \"\n",
      "C:\\Users\\Krzysiek\\anaconda3\\lib\\site-packages\\sklearn\\linear_model\\_ridge.py:190: UserWarning: Singular matrix in solving dual problem. Using least-squares solution instead.\n",
      "  warnings.warn(\"Singular matrix in solving dual problem. Using \"\n",
      "C:\\Users\\Krzysiek\\anaconda3\\lib\\site-packages\\sklearn\\linear_model\\_ridge.py:190: UserWarning: Singular matrix in solving dual problem. Using least-squares solution instead.\n",
      "  warnings.warn(\"Singular matrix in solving dual problem. Using \"\n",
      "C:\\Users\\Krzysiek\\anaconda3\\lib\\site-packages\\sklearn\\linear_model\\_ridge.py:190: UserWarning: Singular matrix in solving dual problem. Using least-squares solution instead.\n",
      "  warnings.warn(\"Singular matrix in solving dual problem. Using \"\n",
      "C:\\Users\\Krzysiek\\anaconda3\\lib\\site-packages\\sklearn\\linear_model\\_ridge.py:190: UserWarning: Singular matrix in solving dual problem. Using least-squares solution instead.\n",
      "  warnings.warn(\"Singular matrix in solving dual problem. Using \"\n",
      "C:\\Users\\Krzysiek\\anaconda3\\lib\\site-packages\\sklearn\\linear_model\\_ridge.py:190: UserWarning: Singular matrix in solving dual problem. Using least-squares solution instead.\n",
      "  warnings.warn(\"Singular matrix in solving dual problem. Using \"\n"
     ]
    },
    {
     "data": {
      "text/plain": [
       "{'polynomialfeatures__degree': 1, 'ridge__alpha': 10}"
      ]
     },
     "execution_count": 284,
     "metadata": {},
     "output_type": "execute_result"
    }
   ],
   "source": [
    "#WYSZUKIWANIE OPTYMALNEGO STOPNIA WIELOMIANU METODĄ RIDGE\n",
    "#ANALIZOWANE STOPNIE WIELOMIANU: OD 1 DO 4\n",
    "#ANALIZOWANY WSPÓŁCZYNNIK ALFA: 0.01, 0.1, 1, 10\n",
    "#ZWRACANIE OPTYMALNEGO STOPNIA WIELOMIANU\n",
    "\n",
    "grid_3 = GridSearchCV(make_pipeline(PolynomialFeatures(degree=2), Ridge(alpha=1, random_state=seed)),\n",
    "                    param_grid={'polynomialfeatures__degree': [1, 2, 3, 4],\n",
    "                    'ridge__alpha': [0.01, 0.1, 1, 10]},\n",
    "                    cv=kfold,\n",
    "                    refit=True)\n",
    "grid_3.fit(X_train, y_train)\n",
    "grid_3.best_params_"
   ]
  },
  {
   "cell_type": "code",
   "execution_count": 285,
   "id": "6f87b9a9",
   "metadata": {},
   "outputs": [
    {
     "data": {
      "text/plain": [
       "{'polynomialfeatures__degree': 1}"
      ]
     },
     "execution_count": 285,
     "metadata": {},
     "output_type": "execute_result"
    }
   ],
   "source": [
    "#WYSZUKIWANIE OPTYMALNEGO STOPNIA WIELOMIANU METODĄ REGRESJI WIELOMIANOWEJ\n",
    "#ANALIZOWANE STOPNIE WIELOMIANU: OD 1 DO 4\n",
    "#ZWRACANIE OPTYMALNEGO STOPNIA WIELOMIANU\n",
    "\n",
    "grid_4 = GridSearchCV(make_pipeline(PolynomialFeatures(degree=2), linear_model.LinearRegression()),\n",
    "                    param_grid={'polynomialfeatures__degree': [1, 2, 3, 4]},\n",
    "                    cv=kfold,\n",
    "                    refit=True)\n",
    "grid_4.fit(X_train, y_train)\n",
    "grid_4.best_params_"
   ]
  },
  {
   "cell_type": "code",
   "execution_count": null,
   "id": "54f0a702",
   "metadata": {},
   "outputs": [],
   "source": [
    "#TRENOWANIE MODELU MLP REGRESSOR \n",
    "\n",
    "grid_5 = GridSearchCV(MLPRegressor(hidden_layer_sizes=(100,100,100),activation='tanh',alpha=0.0001,max_iter=1000),\n",
    "                    param_grid={'hidden_layer_sizes': [(1000,1000,1000),(100,100,100),(10,10,10)],\n",
    "                                'alpha': [1, 10, 100 ,1000],\n",
    "                               'activation': ['identity', 'logistic', 'tanh', 'relu']                               \n",
    "                               },\n",
    "                    cv = kfold,\n",
    "                    n_jobs=1,\n",
    "                    refit=True)\n",
    "grid_5.fit(X_train,y_train)\n",
    "grid_5.best_params_"
   ]
  },
  {
   "cell_type": "code",
   "execution_count": 289,
   "id": "bbd78e93",
   "metadata": {},
   "outputs": [
    {
     "name": "stdout",
     "output_type": "stream",
     "text": [
      "ElasticNet\n",
      "R^2: 0.99909936107297\n",
      "Explained variance score: 0.9990995511974546\n",
      "Median absolute error: 0.371542573562504\n",
      "Mean squared error: 1.171653628725202\n",
      "Mean absolute errors: 0.6366205824573571\n",
      "Lasso\n",
      "R^2: 0.9992127548815306\n",
      "Explained variance score: 0.9992142205339762\n",
      "Median absolute error: 0.22790202536947302\n",
      "Mean squared error: 1.0241380558495157\n",
      "Mean absolute errors: 0.5419927320903096\n",
      "Ridge\n",
      "R^2: 0.9993354422194068\n",
      "Explained variance score: 0.9993363336698161\n",
      "Median absolute error: 0.1860416013707571\n",
      "Mean squared error: 0.864532402232725\n",
      "Mean absolute errors: 0.47274325104953463\n",
      "LR\n",
      "R^2: 0.9993350878222769\n",
      "Explained variance score: 0.9993359750551992\n",
      "Median absolute error: 0.18639330333079585\n",
      "Mean squared error: 0.8649934423575313\n",
      "Mean absolute errors: 0.47273792812716564\n",
      "MLP_R\n",
      "R^2: 0.9990417253169515\n",
      "Explained variance score: 0.999169000033365\n",
      "Median absolute error: 0.27959730973224595\n",
      "Mean squared error: 1.2466327803661652\n",
      "Mean absolute errors: 0.617274730905358\n"
     ]
    }
   ],
   "source": [
    "#UTWORZENIE LIST OPTYMALNYCH PARAMETRÓW R^2, VAR, MAE, MSE DLA WSZYSTKICH ANALIZOWANYCH METOD\n",
    "\n",
    "from sklearn import  metrics\n",
    "\n",
    "models = []\n",
    "models.append(('ElasticNet', grid_1.best_estimator_))\n",
    "models.append(('Lasso', grid_2.best_estimator_))\n",
    "models.append(('Ridge', grid_3.best_estimator_))\n",
    "models.append(('LR', grid_4.best_estimator_))\n",
    "models.append(('MLP_R', grid_5.best_estimator_))\n",
    "\n",
    "r2 = []\n",
    "explained_variance_score = []\n",
    "median_absolute_error = []\n",
    "mean_squared_error = []\n",
    "mean_absolute_error = []\n",
    "for name, model in models:\n",
    "    print(name)\n",
    "    print(\"R^2: {}\".format(metrics.r2_score(y_test, model.predict(X_test)) ))\n",
    "    print(\"Explained variance score: {}\".format( metrics.explained_variance_score(y_test, model.predict(X_test)) ))\n",
    "    print(\"Median absolute error: {}\".format( metrics.median_absolute_error(y_test, model.predict(X_test)) ))\n",
    "    print(\"Mean squared error: {}\".format( metrics.mean_squared_error(y_test, model.predict(X_test)) ))\n",
    "    print(\"Mean absolute errors: {}\".format(metrics.mean_absolute_error(y_test, model.predict(X_test)) ))\n",
    "    r2.append(metrics.r2_score(y_test, model.predict(X_test)))\n",
    "    explained_variance_score.append(metrics.explained_variance_score(y_test, model.predict(X_test)))\n",
    "    median_absolute_error.append( metrics.median_absolute_error(y_test, model.predict(X_test)))\n",
    "    mean_squared_error.append(metrics.mean_squared_error(y_test, model.predict(X_test)))\n",
    "    mean_absolute_error.append(metrics.mean_absolute_error(y_test, model.predict(X_test)))"
   ]
  },
  {
   "cell_type": "code",
   "execution_count": 291,
   "id": "8d24fdfb",
   "metadata": {},
   "outputs": [
    {
     "data": {
      "text/html": [
       "<div>\n",
       "<style scoped>\n",
       "    .dataframe tbody tr th:only-of-type {\n",
       "        vertical-align: middle;\n",
       "    }\n",
       "\n",
       "    .dataframe tbody tr th {\n",
       "        vertical-align: top;\n",
       "    }\n",
       "\n",
       "    .dataframe thead th {\n",
       "        text-align: right;\n",
       "    }\n",
       "</style>\n",
       "<table border=\"1\" class=\"dataframe\">\n",
       "  <thead>\n",
       "    <tr style=\"text-align: right;\">\n",
       "      <th></th>\n",
       "      <th>Method</th>\n",
       "      <th>r2</th>\n",
       "      <th>explained_variance_score</th>\n",
       "      <th>median_absolute_error</th>\n",
       "      <th>mean_squared_error</th>\n",
       "      <th>mean_absolute_error</th>\n",
       "    </tr>\n",
       "  </thead>\n",
       "  <tbody>\n",
       "    <tr>\n",
       "      <th>0</th>\n",
       "      <td>ElasticNet</td>\n",
       "      <td>0.999099</td>\n",
       "      <td>0.999100</td>\n",
       "      <td>0.371543</td>\n",
       "      <td>1.171654</td>\n",
       "      <td>0.636621</td>\n",
       "    </tr>\n",
       "    <tr>\n",
       "      <th>1</th>\n",
       "      <td>Lasso</td>\n",
       "      <td>0.999213</td>\n",
       "      <td>0.999214</td>\n",
       "      <td>0.227902</td>\n",
       "      <td>1.024138</td>\n",
       "      <td>0.541993</td>\n",
       "    </tr>\n",
       "    <tr>\n",
       "      <th>2</th>\n",
       "      <td>Ridge</td>\n",
       "      <td>0.999335</td>\n",
       "      <td>0.999336</td>\n",
       "      <td>0.186042</td>\n",
       "      <td>0.864532</td>\n",
       "      <td>0.472743</td>\n",
       "    </tr>\n",
       "    <tr>\n",
       "      <th>3</th>\n",
       "      <td>LR</td>\n",
       "      <td>0.999335</td>\n",
       "      <td>0.999336</td>\n",
       "      <td>0.186393</td>\n",
       "      <td>0.864993</td>\n",
       "      <td>0.472738</td>\n",
       "    </tr>\n",
       "    <tr>\n",
       "      <th>4</th>\n",
       "      <td>MLP_R</td>\n",
       "      <td>0.999042</td>\n",
       "      <td>0.999169</td>\n",
       "      <td>0.279597</td>\n",
       "      <td>1.246633</td>\n",
       "      <td>0.617275</td>\n",
       "    </tr>\n",
       "  </tbody>\n",
       "</table>\n",
       "</div>"
      ],
      "text/plain": [
       "       Method        r2  explained_variance_score  median_absolute_error  \\\n",
       "0  ElasticNet  0.999099                  0.999100               0.371543   \n",
       "1       Lasso  0.999213                  0.999214               0.227902   \n",
       "2       Ridge  0.999335                  0.999336               0.186042   \n",
       "3          LR  0.999335                  0.999336               0.186393   \n",
       "4       MLP_R  0.999042                  0.999169               0.279597   \n",
       "\n",
       "   mean_squared_error  mean_absolute_error  \n",
       "0            1.171654             0.636621  \n",
       "1            1.024138             0.541993  \n",
       "2            0.864532             0.472743  \n",
       "3            0.864993             0.472738  \n",
       "4            1.246633             0.617275  "
      ]
     },
     "execution_count": 291,
     "metadata": {},
     "output_type": "execute_result"
    }
   ],
   "source": [
    "#UTWORZENIE DATAFRAME PARAMETRÓW R^2, VAR, MAE, MSE DLA WSZYSTKICH ANALIZOWANYCH METOD\n",
    "\n",
    "d = {'r2': r2, \n",
    "     'explained_variance_score': explained_variance_score, \n",
    "     'median_absolute_error': median_absolute_error,\n",
    "     'mean_squared_error' : mean_squared_error,\n",
    "     'mean_absolute_error' : mean_absolute_error,\n",
    "    }\n",
    "df = pd.DataFrame(data=d)\n",
    "df.insert(loc=0, column='Method', value=['ElasticNet','Lasso','Ridge', 'LR', 'MLP_R'])\n",
    "df"
   ]
  },
  {
   "cell_type": "code",
   "execution_count": null,
   "id": "857ba5ca",
   "metadata": {},
   "outputs": [],
   "source": []
  },
  {
   "cell_type": "code",
   "execution_count": null,
   "id": "81eb80dc",
   "metadata": {},
   "outputs": [],
   "source": []
  },
  {
   "cell_type": "code",
   "execution_count": null,
   "id": "7c207109",
   "metadata": {},
   "outputs": [],
   "source": []
  }
 ],
 "metadata": {
  "kernelspec": {
   "display_name": "Python 3 (ipykernel)",
   "language": "python",
   "name": "python3"
  },
  "language_info": {
   "codemirror_mode": {
    "name": "ipython",
    "version": 3
   },
   "file_extension": ".py",
   "mimetype": "text/x-python",
   "name": "python",
   "nbconvert_exporter": "python",
   "pygments_lexer": "ipython3",
   "version": "3.9.7"
  },
  "varInspector": {
   "cols": {
    "lenName": 16,
    "lenType": 16,
    "lenVar": 40
   },
   "kernels_config": {
    "python": {
     "delete_cmd_postfix": "",
     "delete_cmd_prefix": "del ",
     "library": "var_list.py",
     "varRefreshCmd": "print(var_dic_list())"
    },
    "r": {
     "delete_cmd_postfix": ") ",
     "delete_cmd_prefix": "rm(",
     "library": "var_list.r",
     "varRefreshCmd": "cat(var_dic_list()) "
    }
   },
   "types_to_exclude": [
    "module",
    "function",
    "builtin_function_or_method",
    "instance",
    "_Feature"
   ],
   "window_display": false
  }
 },
 "nbformat": 4,
 "nbformat_minor": 5
}
